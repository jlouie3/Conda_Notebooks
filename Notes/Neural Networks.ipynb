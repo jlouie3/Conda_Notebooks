{
 "cells": [
  {
   "cell_type": "markdown",
   "metadata": {},
   "source": [
    "# Choosing a Topology\n",
    "---\n",
    "### Input and Output Layers\n",
    "---\n",
    "* \\# input neurons = \\# of features in dataset + 1 bias neuron\n",
    "* This is non-negotiable with the exception of the bias neuron, however, removing the bias neuron is not recommended\n",
    "\n",
    "If classification problem:\n",
    "* \\# output neurons = \\# rank of classes \n",
    "\n",
    "If regression problem:\n",
    "* \\# output neurons = \\# rank of output vector \n",
    "\n",
    "### Hidden Layers\n",
    "---\n",
    "| Num Hidden Layers | Result|\n",
    "|-------------------|-------|\n",
    "| none              | Only capable of representing linear separable functions or decisions.|\n",
    "| 1                 | Can approximate any function that contains a continuous mapping from one finite space to another.|\n",
    "| 2                 | Can represent an arbitrary decision boundary to arbitrary accuracy with rational activation functions and can approximate any smooth mapping to any accuracy.|\n",
    "| >2                | Additional layers can learn complex representations (sort of automatic feature engineering) for hidden layers|\n",
    "\n",
    "* Max \\# of hidden layers without overfitting\n",
    "     * \\# of samples / (alpha * (\\# input neurons + # output neurons))\n",
    "     * alpha = scaling factor, usually between 2 and 10\n",
    "\n",
    "### Hidden Nodes\n",
    "---\n",
    "* \\# input neurons $\\leq$ **\\# hidden neurons** $\\leq$ \\# output neurons\n",
    "* Pruning\n",
    "    * Start with more neurons and prune\n",
    "    * Remove neurons w/ weights close to zero\n",
    "\n"
   ]
  },
  {
   "cell_type": "markdown",
   "metadata": {},
   "source": []
  }
 ],
 "metadata": {
  "kernelspec": {
   "display_name": "Python 3",
   "language": "python",
   "name": "python3"
  },
  "language_info": {
   "codemirror_mode": {
    "name": "ipython",
    "version": 3
   },
   "file_extension": ".py",
   "mimetype": "text/x-python",
   "name": "python",
   "nbconvert_exporter": "python",
   "pygments_lexer": "ipython3",
   "version": "3.6.8"
  }
 },
 "nbformat": 4,
 "nbformat_minor": 2
}
