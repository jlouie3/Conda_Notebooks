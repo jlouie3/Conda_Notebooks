{
 "cells": [
  {
   "cell_type": "code",
   "execution_count": null,
   "metadata": {
    "collapsed": true
   },
   "outputs": [],
   "source": [
    "import numpy as np\n",
    "import pandas as pd\n",
    "\n",
    "'''\n",
    "q-learner\n",
    "    -policy\n",
    "    -value function\n",
    "    -update()\n",
    "    -move()\n",
    "    \n",
    "portfolio\n",
    "    -cash\n",
    "    -assets\n",
    "    -orderHistory\n",
    "        -orders[{time, asset, action, amount, value}]\n",
    "        -show()\n",
    "    -show()\n",
    "    \n",
    "'''"
   ]
  }
 ],
 "metadata": {
  "kernelspec": {
   "display_name": "Python 3",
   "language": "python",
   "name": "python3"
  },
  "language_info": {
   "codemirror_mode": {
    "name": "ipython",
    "version": 3
   },
   "file_extension": ".py",
   "mimetype": "text/x-python",
   "name": "python",
   "nbconvert_exporter": "python",
   "pygments_lexer": "ipython3",
   "version": "3.6.1"
  }
 },
 "nbformat": 4,
 "nbformat_minor": 2
}
