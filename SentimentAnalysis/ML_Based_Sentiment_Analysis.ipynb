{
 "cells": [
  {
   "cell_type": "code",
   "execution_count": null,
   "metadata": {
    "collapsed": true
   },
   "outputs": [],
   "source": [
    "'''\n",
    "ML-based Approaches\n",
    "\n",
    "    Classifiers:\n",
    "        Naive Bayes\n",
    "            -Supervised classifier\n",
    "            -A Priori Probabilities\n",
    "                -Can be dervided by reason alone, before anything specific about data is known\n",
    "                -Ex: There are more positive movie reviews than negative movie reviews in a dataset\n",
    "            -Conditional probabilities\n",
    "                -Ex 1: The word 'worst' appears in two negative movie reviews an 0 times in positive movie reviews\n",
    "                -Ex 2: The word 'up' appears in two positive movie reviews an 0 times in positive movie reviews\n",
    "            -How to works:\n",
    "                -Uses Bayes Theorem to calculate if sample is more likely to be positive or negative\n",
    "                -Classify sample as whatever it is more likely to be\n",
    "        SVM\n",
    "            -Requires a lot of tuning compared to naive bayes\n",
    "            -Performance might not justify using SVM for this application\n",
    "            -How it works:\n",
    "                -Creates a line or plane to separate data\n",
    "                -Each side of the line or plane represents a class\n",
    "'''\n"
   ]
  },
  {
   "cell_type": "code",
   "execution_count": null,
   "metadata": {
    "collapsed": true
   },
   "outputs": [],
   "source": []
  }
 ],
 "metadata": {
  "kernelspec": {
   "display_name": "Python 3",
   "language": "python",
   "name": "python3"
  },
  "language_info": {
   "codemirror_mode": {
    "name": "ipython",
    "version": 3
   },
   "file_extension": ".py",
   "mimetype": "text/x-python",
   "name": "python",
   "nbconvert_exporter": "python",
   "pygments_lexer": "ipython3",
   "version": "3.6.1"
  }
 },
 "nbformat": 4,
 "nbformat_minor": 2
}
