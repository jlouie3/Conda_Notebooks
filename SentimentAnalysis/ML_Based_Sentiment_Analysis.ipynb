{
 "cells": [
  {
   "cell_type": "code",
   "execution_count": null,
   "metadata": {
    "collapsed": true
   },
   "outputs": [],
   "source": [
    "'''\n",
    "ML-based Approaches\n",
    "\n",
    "    Workflow:\n",
    "        1. Split corpus (training/test datasets)\n",
    "        2. Define the vocabulary\n",
    "        3. Extract features\n",
    "        4. Train classifier\n",
    "        5. Classify test data\n",
    "\n",
    "    Classifiers:\n",
    "        Naive Bayes\n",
    "            -Supervised classifier\n",
    "            -A Priori Probabilities\n",
    "                -Can be dervided by reason alone, before anything specific about data is known\n",
    "                -Ex: There are more positive movie reviews than negative movie reviews in a dataset\n",
    "            -Conditional probabilities\n",
    "                -Ex 1: The word 'worst' appears in two negative movie reviews an 0 times in positive movie reviews\n",
    "                -Ex 2: The word 'up' appears in two positive movie reviews an 0 times in positive movie reviews\n",
    "            -How to works:\n",
    "                -Uses Bayes Theorem to calculate if sample is more likely to be positive or negative\n",
    "                -Classify sample as whatever it is more likely to be\n",
    "        SVM\n",
    "            -Requires a lot of tuning compared to naive bayes\n",
    "            -Performance might not justify using SVM for this application\n",
    "            -How it works:\n",
    "                -Creates a line or plane to separate data\n",
    "                -Each side of the line or plane represents a class\n",
    "\n",
    "    Feature selection\n",
    "        - Key to making an ML model work effectively\n",
    "        -Feature examples;\n",
    "            -Word tuples: good for naive bayes\n",
    "            -Term frequency: good for SVM\n",
    "            -Inverse document frequency: \n",
    "                -unusual words more important\n",
    "                -commonly used with SVM\n",
    "'''\n"
   ]
  },
  {
   "cell_type": "code",
   "execution_count": 1,
   "metadata": {
    "collapsed": true
   },
   "outputs": [],
   "source": [
    "# Read in movie review data\n",
    "positiveReviewsFileName = 'data/rt-polarity.pos'\n",
    "negativeReviewsFileName = 'data/rt-polarity.neg'\n",
    "\n",
    "with open(positiveReviewsFileName) as f:\n",
    "    positiveReviews = f.readlines()\n",
    "    \n",
    "with open(negativeReviewsFileName) as f:\n",
    "    negativeReviews = f.readlines()"
   ]
  },
  {
   "cell_type": "code",
   "execution_count": 2,
   "metadata": {
    "collapsed": true
   },
   "outputs": [],
   "source": [
    "# Split data into training and test sets\n",
    "testTrainingSplitIndex = 2500\n",
    "\n",
    "testPositiveReviews = positiveReviews[:testTrainingSplitIndex]\n",
    "testNegativeReviews = negativeReviews[:testTrainingSplitIndex]\n",
    "\n",
    "trainPositiveReviews = positiveReviews[testTrainingSplitIndex+1:]\n",
    "trainNegativeReviews = negativeReviews[testTrainingSplitIndex+1:]"
   ]
  },
  {
   "cell_type": "code",
   "execution_count": 3,
   "metadata": {
    "collapsed": true
   },
   "outputs": [],
   "source": [
    "# Define the vocabulary\n",
    "\n",
    "# Put all words from positive and negative reviews into lists\n",
    "positiveWordList = [word for line in trainPositiveReviews for word in line.split()]\n",
    "negativeWordList = [word for line in trainNegativeReviews for word in line.split()]\n",
    "\n",
    "# Make a list of all words found across all reviews\n",
    "allWordList = [item for sublist in [positiveWordList, negativeWordList] for item in sublist]\n",
    "\n",
    "# Remove duplicates to get vocabulary\n",
    "vocabulary = list(set(allWordList))"
   ]
  },
  {
   "cell_type": "code",
   "execution_count": 4,
   "metadata": {
    "collapsed": true
   },
   "outputs": [],
   "source": [
    "# Setup the training data\n",
    "def getTrainingData():\n",
    "    # Split up reviews into dictionaries (key:value => review:label)\n",
    "    posTaggedTrainingReviews = [{'review': review.split(), 'label': 'positive'} for review in trainPositiveReviews]\n",
    "    negTaggedTrainingReviews = [{'review': review.split(), 'label': 'negative'} for review in trainNegativeReviews]\n",
    "\n",
    "    # Concatenate positive and negative review dicts\n",
    "    fullTaggedTrainingData = [review for sublist in [posTaggedTrainingReviews, negTaggedTrainingReviews] for review in sublist]\n",
    "\n",
    "    # Training data is a list of tuples, each tuple being: (review data as list of words, review label)\n",
    "    trainingData = [(review['review'], review['label']) for review in fullTaggedTrainingData]\n",
    "    \n",
    "    return trainingData"
   ]
  },
  {
   "cell_type": "code",
   "execution_count": 5,
   "metadata": {
    "collapsed": true
   },
   "outputs": [],
   "source": [
    "def extract_features(review):\n",
    "    '''\n",
    "    Uses vocabulary to define features and converts a review into a \n",
    "    feature vector based on which vocab words are present in the review.\n",
    "    Feature vector contains true/false values.\n",
    "    \n",
    "    param review: review to have features extracted\n",
    "    param vocabulary: set of words used to define features\n",
    "    '''\n",
    "    review_words = set(review)\n",
    "    features = {}\n",
    "    for word in vocabulary:\n",
    "        features[word] = (word in review_words)\n",
    "    return features"
   ]
  },
  {
   "cell_type": "code",
   "execution_count": 6,
   "metadata": {
    "collapsed": true
   },
   "outputs": [],
   "source": [
    "# Train a classifier using extracted features and nltk\n",
    "import nltk\n",
    "\n",
    "# Get training data\n",
    "trainingData = getTrainingData()\n",
    "\n",
    "# Converts training data into tuples of form: (feature vectors, label)\n",
    "trainingFeatures = nltk.classify.apply_features(extract_features, trainingData)\n",
    "\n",
    "# Train a Naive Bayes Classifier using the updated form of training data\n",
    "trainedNBClassifier = nltk.NaiveBayesClassifier.train(trainingFeatures)"
   ]
  },
  {
   "cell_type": "code",
   "execution_count": 23,
   "metadata": {
    "collapsed": true
   },
   "outputs": [],
   "source": [
    "def naiveBayesSentimentCalculator(review):\n",
    "    '''\n",
    "    Takes a review, converts it to a feature vector, \n",
    "    then classifies the review based on its features.\n",
    "    Class is returned.\n",
    "    \n",
    "    param review: review from test dataset to be classified\n",
    "    '''\n",
    "    problemInstance = review.split()\n",
    "    problemFeatures = extract_features(problemInstance)\n",
    "    return trainedNBClassifier.classify(problemFeatures)\n",
    "\n",
    "\n",
    "def getTestReviewSentiments(naiveBayesSentimentCalculator):\n",
    "    testPosResults = [naiveBayesSentimentCalculator(review) for review in testPositiveReviews]\n",
    "    testNegResults = [naiveBayesSentimentCalculator(review) for review in testNegativeReviews]\n",
    "    \n",
    "    labelToNum = {'positive': 1, 'negative': 0}\n",
    "    \n",
    "    numericPosResults = [labelToNum[x] for x in testPosResults]\n",
    "    numericNegResults = [labelToNum[x] for x in testNegResults]\n",
    "    \n",
    "    return {'results-on-positive': numericPosResults, 'results-on-negative': numericNegResults,}\n",
    "\n",
    "\n",
    "def runDiagnostics(reviewResult):\n",
    "    '''\n",
    "    Print to console the accuracy of the VADER sentiment analyzer\n",
    "    \n",
    "    param reviewResult: dictionary containing compound sentiments for positive and negative reviews\n",
    "    '''\n",
    "    posReviewResult = reviewResult['results-on-positive']\n",
    "    negReviewResult = reviewResult['results-on-negative']\n",
    "    \n",
    "    numTruePositive = float(sum(x > 0 for x in posReviewResult))\n",
    "    numTrueNegative = float(sum(x < 0 for x in negReviewResult))\n",
    "    totalAccurate = numTruePositive + numTrueNegative\n",
    "\n",
    "    pctTruePositive = numTruePositive / len(posReviewResult)\n",
    "    pctTrueNegative = numTrueNegative / len(negReviewResult)\n",
    "    pctAccurate = totalAccurate / (len(posReviewResult) + len(negReviewResult))\n",
    "\n",
    "    print('Accuracy on positive reviews: {:.2f}%'.format(pctTruePositive*100))\n",
    "    print('Accuracy on negative reviews: {:.2f}%'.format(pctTrueNegative*100))\n",
    "    print('Overall accuracy: {:.2f}%'.format(pctAccurate*100))"
   ]
  },
  {
   "cell_type": "code",
   "execution_count": 24,
   "metadata": {},
   "outputs": [
    {
     "ename": "NameError",
     "evalue": "name 'truePositive' is not defined",
     "output_type": "error",
     "traceback": [
      "\u001b[1;31m---------------------------------------------------------------------------\u001b[0m",
      "\u001b[1;31mNameError\u001b[0m                                 Traceback (most recent call last)",
      "\u001b[1;32m<ipython-input-24-113434a79a99>\u001b[0m in \u001b[0;36m<module>\u001b[1;34m()\u001b[0m\n\u001b[1;32m----> 1\u001b[1;33m \u001b[0mrunDiagnostics\u001b[0m\u001b[1;33m(\u001b[0m\u001b[0mgetTestReviewSentiments\u001b[0m\u001b[1;33m(\u001b[0m\u001b[0mnaiveBayesSentimentCalculator\u001b[0m\u001b[1;33m)\u001b[0m\u001b[1;33m)\u001b[0m\u001b[1;33m\u001b[0m\u001b[0m\n\u001b[0m",
      "\u001b[1;32m<ipython-input-23-878a827c152b>\u001b[0m in \u001b[0;36mrunDiagnostics\u001b[1;34m(reviewResult)\u001b[0m\n\u001b[0;32m     35\u001b[0m     \u001b[0mnumTruePositive\u001b[0m \u001b[1;33m=\u001b[0m \u001b[0mfloat\u001b[0m\u001b[1;33m(\u001b[0m\u001b[0msum\u001b[0m\u001b[1;33m(\u001b[0m\u001b[0mx\u001b[0m \u001b[1;33m>\u001b[0m \u001b[1;36m0\u001b[0m \u001b[1;32mfor\u001b[0m \u001b[0mx\u001b[0m \u001b[1;32min\u001b[0m \u001b[0mposReviewResult\u001b[0m\u001b[1;33m)\u001b[0m\u001b[1;33m)\u001b[0m\u001b[1;33m\u001b[0m\u001b[0m\n\u001b[0;32m     36\u001b[0m     \u001b[0mnumTrueNegative\u001b[0m \u001b[1;33m=\u001b[0m \u001b[0mfloat\u001b[0m\u001b[1;33m(\u001b[0m\u001b[0msum\u001b[0m\u001b[1;33m(\u001b[0m\u001b[0mx\u001b[0m \u001b[1;33m<\u001b[0m \u001b[1;36m0\u001b[0m \u001b[1;32mfor\u001b[0m \u001b[0mx\u001b[0m \u001b[1;32min\u001b[0m \u001b[0mnegReviewResult\u001b[0m\u001b[1;33m)\u001b[0m\u001b[1;33m)\u001b[0m\u001b[1;33m\u001b[0m\u001b[0m\n\u001b[1;32m---> 37\u001b[1;33m     \u001b[0mtotalAccurate\u001b[0m \u001b[1;33m=\u001b[0m \u001b[0mtruePositive\u001b[0m \u001b[1;33m+\u001b[0m \u001b[0mtrueNegative\u001b[0m\u001b[1;33m\u001b[0m\u001b[0m\n\u001b[0m\u001b[0;32m     38\u001b[0m \u001b[1;33m\u001b[0m\u001b[0m\n\u001b[0;32m     39\u001b[0m     \u001b[0mpctTruePositive\u001b[0m \u001b[1;33m=\u001b[0m \u001b[0mnumTruePositive\u001b[0m \u001b[1;33m/\u001b[0m \u001b[0mlen\u001b[0m\u001b[1;33m(\u001b[0m\u001b[0mposReviewResult\u001b[0m\u001b[1;33m)\u001b[0m\u001b[1;33m\u001b[0m\u001b[0m\n",
      "\u001b[1;31mNameError\u001b[0m: name 'truePositive' is not defined"
     ]
    }
   ],
   "source": [
    "runDiagnostics(getTestReviewSentiments(naiveBayesSentimentCalculator))"
   ]
  },
  {
   "cell_type": "code",
   "execution_count": null,
   "metadata": {
    "collapsed": true
   },
   "outputs": [],
   "source": []
  }
 ],
 "metadata": {
  "kernelspec": {
   "display_name": "Python 3",
   "language": "python",
   "name": "python3"
  },
  "language_info": {
   "codemirror_mode": {
    "name": "ipython",
    "version": 3
   },
   "file_extension": ".py",
   "mimetype": "text/x-python",
   "name": "python",
   "nbconvert_exporter": "python",
   "pygments_lexer": "ipython3",
   "version": "3.6.1"
  }
 },
 "nbformat": 4,
 "nbformat_minor": 2
}
