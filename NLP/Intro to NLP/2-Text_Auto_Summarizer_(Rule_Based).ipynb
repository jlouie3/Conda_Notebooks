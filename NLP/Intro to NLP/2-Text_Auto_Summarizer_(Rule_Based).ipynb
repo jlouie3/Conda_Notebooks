{
 "cells": [
  {
   "cell_type": "code",
   "execution_count": 1,
   "metadata": {
    "collapsed": true
   },
   "outputs": [
    {
     "data": {
      "text/plain": [
       "'\\nAuto-Summarizing Text (Rule-based)\\n\\nAbstract Extraction\\n    Retrieve text \\n      - DL webpage\\n      - Parse text with BeautifulSoup\\n    Preprocess text\\n      - Tokenize into sentences\\n      - Tokenize sentences into words\\n      - Remove stopwords\\n    Extract sentences\\n      - Find most important words (frequency = importance)\\n      - Compute significance scores of sentences (significance = sum(word importance))\\n      - Rank sentences by their score\\n      - Pick top N sentences\\n\\nUses the following packages:\\n    - requests \\n    - BeautifulSoup\\n    - nltk\\n'"
      ]
     },
     "execution_count": 1,
     "metadata": {},
     "output_type": "execute_result"
    }
   ],
   "source": [
    "'''\n",
    "Auto-Summarizing Text (Rule-based)\n",
    "\n",
    "Abstract Extraction\n",
    "    Retrieve text \n",
    "      - DL webpage\n",
    "      - Parse text with BeautifulSoup\n",
    "    Preprocess text\n",
    "      - Tokenize into sentences\n",
    "      - Tokenize sentences into words\n",
    "      - Remove stopwords\n",
    "    Extract sentences\n",
    "      - Find most important words (frequency = importance)\n",
    "      - Compute significance scores of sentences (significance = sum(word importance))\n",
    "      - Rank sentences by their score\n",
    "      - Pick top N sentences\n",
    "\n",
    "Uses the following packages:\n",
    "    - requests \n",
    "    - BeautifulSoup\n",
    "    - nltk\n",
    "'''"
   ]
  },
  {
   "cell_type": "code",
   "execution_count": 6,
   "metadata": {
    "collapsed": true
   },
   "outputs": [],
   "source": [
    "# Retrieve Text\n",
    "import requests\n",
    "from bs4 import BeautifulSoup\n",
    "articleURL = \"https://www.washingtonpost.com/news/the-switch/wp/2016/10/18/the-pentagons-massive-new-telescope-is-designed-to-track-space-junk-and-watch-out-for-killer-asteroids/?utm_term=.32c73cb18d54\"\n",
    "\n",
    "# Get content from url, then get all content from <article> elements in single string \n",
    "def getTextWaPo(url):\n",
    "    page = requests.get(articleURL)\n",
    "    page_content = page.text.encode(encoding='ascii', errors='ignore') # Encode text to ascii to remove any special characters\n",
    "    soup = BeautifulSoup(page_content, \"lxml\")\n",
    "    text = ' '.join(map(lambda p: p.text, soup.find_all('article')))  # join content from all article elements on page into a single string\n",
    "    return text"
   ]
  },
  {
   "cell_type": "code",
   "execution_count": 7,
   "metadata": {
    "collapsed": true
   },
   "outputs": [],
   "source": [
    "text = getTextWaPo(articleURL)"
   ]
  },
  {
   "cell_type": "code",
   "execution_count": 8,
   "metadata": {
    "collapsed": true
   },
   "outputs": [],
   "source": [
    "# Preprocess text\n",
    "from nltk.tokenize import sent_tokenize, word_tokenize\n",
    "from nltk.probability import FreqDist\n",
    "from nltk.corpus import stopwords\n",
    "from string import punctuation\n",
    "from collections import defaultdict\n",
    "from heapq import nlargest\n",
    "\n",
    "def summarize(text, n):\n",
    "    '''\n",
    "    Summaraize text into specified number of sentences.\n",
    "        1. tokenize words\n",
    "        2. create stopword list\n",
    "        3. filter out stopwords from word list\n",
    "        4. calculaute importance of each word based on frequency\n",
    "        5. get the top 10 most frequently occurring/important words\n",
    "        6. place most important words in dictionary (key:value => word:importance)\n",
    "        7. calculate significance of each sentence by summing the significance of each word in each sentence\n",
    "        8. get indices of n most significant sentences\n",
    "        9. get sentences, order them by index, and return\n",
    "\n",
    "    param text: input text to be summarized\n",
    "    param n: number of sentences to be condense text\n",
    "    '''\n",
    "    sents = sent_tokenize(text)\n",
    "\n",
    "    assert n <= len(sents)\n",
    "    word_sent = word_tokenize(text.lower())\n",
    "    _stopwords = set(stopwords.words('english') + list(punctuation))\n",
    "  \n",
    "    word_sent = [word for word in word_sent if word not in _stopwords]\n",
    "    freq = FreqDist(word_sent)\n",
    "\n",
    "    nlargest(10, freq, key=freq.get) # get n most frequently occurring/important words in list\n",
    "    ranking = defaultdict(int)\n",
    "\n",
    "    # calculate significance of each sentence by summing the significance of each word in sentence\n",
    "    for i,sent in enumerate(sents): # enumerate zips each element with an index\n",
    "        for w in word_tokenize(sent.lower()):\n",
    "            if w in freq:\n",
    "                ranking[i] += freq[w]\n",
    "\n",
    "    sents_idx = nlargest(n, ranking, key=ranking.get)\n",
    "    return [sents[j] for j in sorted(sents_idx)]"
   ]
  },
  {
   "cell_type": "code",
   "execution_count": 9,
   "metadata": {
    "scrolled": false
   },
   "outputs": [
    {
     "data": {
      "text/plain": [
       "['On Tuesday, the Defense Departmenttook another significant step toward monitoring all of the cosmic junk swirling around in space, by deliveringa gigantic new telescope capable of seeing small objects from very far away.',\n",
       " 'DARPA says the advanced technology in the massive, 90-ton telescope wouldallow officials to go from seeing only a few large objects at a time through the equivalent of a drinking straw to a windshield view with 10,000 objects at a time.It is also being used by NASA to monitor asteroids and other near-Earth objects that could collide with the planet, officials said.',\n",
       " 'The telescope is a big improvement over the legacy ground-based optical telescopes that are used by the U.S. Air Force, because it can search large areas of sky and also track very faint (small) objects in and around GEO, Brian Weeden, a Technical Advisor at the Secure World Foundation, wrote in an email.',\n",
       " 'Every military operation that takes place in the world today is critically dependent on space in one way or another, Air Force Gen. John Hyten said in an interview earlier this year when he was the commander of the Air Force Space Command.']"
      ]
     },
     "execution_count": 9,
     "metadata": {},
     "output_type": "execute_result"
    }
   ],
   "source": [
    "summarize(text, 4)\n"
   ]
  }
 ],
 "metadata": {
  "kernelspec": {
   "display_name": "Python 3",
   "language": "python",
   "name": "python3"
  },
  "language_info": {
   "codemirror_mode": {
    "name": "ipython",
    "version": 3
   },
   "file_extension": ".py",
   "mimetype": "text/x-python",
   "name": "python",
   "nbconvert_exporter": "python",
   "pygments_lexer": "ipython3",
   "version": "3.5.3"
  }
 },
 "nbformat": 4,
 "nbformat_minor": 2
}
