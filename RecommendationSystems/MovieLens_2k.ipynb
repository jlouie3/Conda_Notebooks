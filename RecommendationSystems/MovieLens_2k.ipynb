{
 "cells": [
  {
   "cell_type": "code",
   "execution_count": null,
   "metadata": {
    "collapsed": true
   },
   "outputs": [],
   "source": [
    "'''\n",
    "Exercise in Collaborative Filtering using data from MovieLens + IMDB/RottenTomatoes\n",
    "\n",
    "Process:\n",
    "    1. Import data \n",
    "    2. Clean data\n",
    "    3. Define necessary functions\n",
    "        - Get \n",
    "\n",
    "\n",
    "'''"
   ]
  },
  {
   "cell_type": "code",
   "execution_count": 9,
   "metadata": {},
   "outputs": [],
   "source": [
    "import pandas as pd\n",
    "\n",
    "def file_to_df(path, usecols, delimiter=','):\n",
    "    with open(path, errors='replace') as file:\n",
    "        data = file.readlines()\n",
    "        \n",
    "    data = [line.split('\\t') for line in data]\n",
    "    return data\n",
    "\n",
    "\n",
    "\n",
    "movies_path = 'data/movielens_2k/movies.dat'\n",
    "df_movies = file_to_df(movies_path, delimiter='\\t', usecols=['id','title','imdbID','rtID','rtAllCriticsRating','rtAllCriticsNumReviews','rtAllCriticsScore','rtTopCriticsRating','rtTopCriticsNumReviews','rtTopCriticsNumFresh','rtTopCriticsNumRotten','rtTopCriticsScore','rtAudienceRating','rtAudienceNumRatings','rtAudienceScore'])\n",
    "#movie_actors_path = 'data/movielens_2k/movie_actors.dat'\n",
    "#movie_directors_path = 'data/movielens_2k/movie_directors.dat'\n",
    "#movie_genres_path = 'data/movielens_2k/movie_genres.dat'\n",
    "#user_rated_movies_path = 'data/movielens_2k/user_ratedmovies.dat'\n",
    "#\n",
    "#df_movies = pd.read_csv(movies_path, delimiter='\\t', usecols=['id','title','imdbID','rtID','rtAllCriticsRating','rtAllCriticsNumReviews','rtAllCriticsScore','rtTopCriticsRating','rtTopCriticsNumReviews','rtTopCriticsNumFresh','rtTopCriticsNumRotten','rtTopCriticsScore','rtAudienceRating','rtAudienceNumRatings','rtAudienceScore'])\n",
    "#df_movie_actors = pd.read_csv(movie_actors_path, delimiter='\\t', usecols=['movieID','actorID','actorName','ranking'])\n",
    "#df_movie_directors = pd.read_csv(movie_directors_path, delimiter='\\t', usecols=['userID','movieID','rating'])\n",
    "#df_movie_genres = pd.read_csv(movie_genres_path, delimiter='\\t', usecols=['movieID','genre'])\n",
    "#df_user_rated_movies = pd.read_csv(user_rated_movies_path, delimiter='\\t', usecols=['movieID','directorID','directorName']) "
   ]
  },
  {
   "cell_type": "code",
   "execution_count": 11,
   "metadata": {},
   "outputs": [],
   "source": [
    "\n",
    "df_movies = pd.DataFrame(df_movies)"
   ]
  },
  {
   "cell_type": "code",
   "execution_count": 21,
   "metadata": {},
   "outputs": [],
   "source": [
    "# Set column names to first row\n",
    "df_movies.columns = list(df_movies.iloc[0])\n",
    "\n",
    "# Delete first row since they are column names and not values\n",
    "df_movies"
   ]
  },
  {
   "cell_type": "code",
   "execution_count": 30,
   "metadata": {},
   "outputs": [
    {
     "data": {
      "text/plain": [
       "0           id\n",
       "1            1\n",
       "2            2\n",
       "3            3\n",
       "4            4\n",
       "5            5\n",
       "6            6\n",
       "7            7\n",
       "8            8\n",
       "9            9\n",
       "10          10\n",
       "11          11\n",
       "12          12\n",
       "13          13\n",
       "14          14\n",
       "15          15\n",
       "16          16\n",
       "17          17\n",
       "18          18\n",
       "19          19\n",
       "20          20\n",
       "21          21\n",
       "22          22\n",
       "23          23\n",
       "24          24\n",
       "25          25\n",
       "26          26\n",
       "27          27\n",
       "28          28\n",
       "29          29\n",
       "         ...  \n",
       "10168    64701\n",
       "10169    64716\n",
       "10170    64750\n",
       "10171    64839\n",
       "10172    64900\n",
       "10173    64903\n",
       "10174    64906\n",
       "10175    64918\n",
       "10176    64921\n",
       "10177    64926\n",
       "10178    64930\n",
       "10179    64942\n",
       "10180    64957\n",
       "10181    64959\n",
       "10182    64969\n",
       "10183    64976\n",
       "10184    64983\n",
       "10185    64986\n",
       "10186    64990\n",
       "10187    64993\n",
       "10188    64997\n",
       "10189    64999\n",
       "10190    65006\n",
       "10191    65011\n",
       "10192    65037\n",
       "10193    65088\n",
       "10194    65091\n",
       "10195    65126\n",
       "10196    65130\n",
       "10197    65133\n",
       "Name: id, Length: 10198, dtype: object"
      ]
     },
     "execution_count": 30,
     "metadata": {},
     "output_type": "execute_result"
    }
   ],
   "source": [
    "df_movies['id']"
   ]
  },
  {
   "cell_type": "code",
   "execution_count": null,
   "metadata": {
    "collapsed": true
   },
   "outputs": [],
   "source": []
  }
 ],
 "metadata": {
  "kernelspec": {
   "display_name": "Python 3",
   "language": "python",
   "name": "python3"
  },
  "language_info": {
   "codemirror_mode": {
    "name": "ipython",
    "version": 3
   },
   "file_extension": ".py",
   "mimetype": "text/x-python",
   "name": "python",
   "nbconvert_exporter": "python",
   "pygments_lexer": "ipython3",
   "version": "3.6.3"
  }
 },
 "nbformat": 4,
 "nbformat_minor": 2
}
