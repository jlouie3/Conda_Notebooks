{
 "cells": [
  {
   "cell_type": "code",
   "execution_count": null,
   "metadata": {
    "collapsed": true
   },
   "outputs": [],
   "source": [
    "'''\n",
    "Exercise in Collaborative Filtering using data from MovieLens + IMDB/RottenTomatoes\n",
    "\n",
    "Process:\n",
    "    1. Import and clean data \n",
    "    2. Create matrix for movie ratings for each user/movie pair\n",
    "    3. Find K most similar users to a selected user (aka User)\n",
    "        a. Use KNN algorithm\n",
    "        b. Use Hamming distance to compare vectors (# mismatched dimension values / # of total dimensions)\n",
    "    4. Using K most similar users, calculate mean rating of each movie\n",
    "    5. Select top N movies with greatest mean that have not been rated by User\n",
    "       (These are the top N movies to recommend to User)\n",
    "    6. Get details for each of the N movies\n",
    "    7. Analyze movie details to look for user preferences\n",
    "\n",
    "\n",
    "'''"
   ]
  },
  {
   "cell_type": "code",
   "execution_count": 1,
   "metadata": {
    "collapsed": true
   },
   "outputs": [],
   "source": [
    "import datetime\n",
    "import numpy as np\n",
    "import pandas as pd\n",
    "from scipy.spatial.distance import hamming\n",
    "\n",
    "# 1) Import and clean data\n",
    "def file_to_df(path, usecols, delimiter=','):\n",
    "    '''\n",
    "    Import text file data to a pandas dataframe object\n",
    "    \n",
    "    param path: path of text file containing data to import\n",
    "    param usecols: list of columns to take\n",
    "    param delimiter: character used to separate data elements in a line\n",
    "    \n",
    "    return: DataFrame object of data frm text file\n",
    "    '''\n",
    "    # Read file line-by-line into a list\n",
    "    with open(path, errors='replace') as file:\n",
    "        data = file.readlines()\n",
    "    \n",
    "    # Clean data\n",
    "    for i in range(len(data)):\n",
    "        data[i] = data[i].replace('\\n', '') # Remove newline chars\n",
    "    \n",
    "    # Convert array of strings into 2D list of strings\n",
    "    data = [line.split(delimiter) for line in data]\n",
    "    \n",
    "    # Convert 2D list to a DataFrame object\n",
    "    df = pd.DataFrame(data)\n",
    "    \n",
    "    # Set column names to values in first row\n",
    "    df.columns = list(df.iloc[0])\n",
    "\n",
    "    # Take specified columns only\n",
    "    df = df[usecols]\n",
    "    \n",
    "    # Delete first row since it contains column names and not values\n",
    "    df = df.drop(0)\n",
    "    \n",
    "    # Reset to 0-based index\n",
    "    df.index = range(len(df.index))\n",
    "    \n",
    "    return df\n",
    "\n",
    "\n",
    "# Set data file paths\n",
    "movies_path = 'data/movielens_2k/movies.dat'\n",
    "movie_actors_path = 'data/movielens_2k/movie_actors.dat'\n",
    "movie_directors_path = 'data/movielens_2k/movie_directors.dat'\n",
    "movie_genres_path = 'data/movielens_2k/movie_genres.dat'\n",
    "user_rated_movies_path = 'data/movielens_2k/user_ratedmovies.dat'\n",
    "\n",
    "# Import data, clean it, and output to dataframes\n",
    "df_movies = file_to_df(movies_path, delimiter='\\t', usecols=['id','title','imdbID','rtID','rtAllCriticsRating','rtAllCriticsNumReviews','rtAllCriticsScore','rtTopCriticsRating','rtTopCriticsNumReviews','rtTopCriticsNumFresh','rtTopCriticsNumRotten','rtTopCriticsScore','rtAudienceRating','rtAudienceNumRatings','rtAudienceScore'])\n",
    "df_movie_actors = file_to_df(movie_actors_path, delimiter='\\t', usecols=['movieID','actorID','actorName','ranking'])\n",
    "df_movie_directors = file_to_df(movie_directors_path, delimiter='\\t', usecols=['movieID','directorID','directorName'])\n",
    "df_movie_genres = file_to_df(movie_genres_path, delimiter='\\t', usecols=['movieID','genre'])\n",
    "df_user_rated_movies = file_to_df(user_rated_movies_path, delimiter='\\t', usecols=['userID','movieID','rating']) \n",
    "\n",
    "# Create User/Movie ratings matrix\n",
    "df_user_movie_ratings = df_user_rated_movies.pivot(index='userID', columns='movieID', values='rating')\n",
    "\n",
    "# Replace null values with a numerical equivalent, then cast all data types in table to float \n",
    "df_user_movie_ratings.fillna(value=np.nan,inplace=True)\n",
    "df_user_movie_ratings = pd.DataFrame(df_user_movie_ratings, dtype=np.float32)\n"
   ]
  },
  {
   "cell_type": "code",
   "execution_count": 2,
   "metadata": {
    "scrolled": true
   },
   "outputs": [
    {
     "name": "stdout",
     "output_type": "stream",
     "text": [
      "Users: 2113\n",
      "Movies: 10109\n"
     ]
    },
    {
     "data": {
      "text/html": [
       "<div>\n",
       "<style>\n",
       "    .dataframe thead tr:only-child th {\n",
       "        text-align: right;\n",
       "    }\n",
       "\n",
       "    .dataframe thead th {\n",
       "        text-align: left;\n",
       "    }\n",
       "\n",
       "    .dataframe tbody tr th {\n",
       "        vertical-align: top;\n",
       "    }\n",
       "</style>\n",
       "<table border=\"1\" class=\"dataframe\">\n",
       "  <thead>\n",
       "    <tr style=\"text-align: right;\">\n",
       "      <th>movieID</th>\n",
       "      <th>1</th>\n",
       "      <th>10</th>\n",
       "      <th>100</th>\n",
       "      <th>1000</th>\n",
       "      <th>1001</th>\n",
       "      <th>1002</th>\n",
       "      <th>1003</th>\n",
       "      <th>1004</th>\n",
       "      <th>1005</th>\n",
       "      <th>1006</th>\n",
       "      <th>...</th>\n",
       "      <th>99</th>\n",
       "      <th>990</th>\n",
       "      <th>991</th>\n",
       "      <th>992</th>\n",
       "      <th>993</th>\n",
       "      <th>994</th>\n",
       "      <th>996</th>\n",
       "      <th>997</th>\n",
       "      <th>998</th>\n",
       "      <th>999</th>\n",
       "    </tr>\n",
       "    <tr>\n",
       "      <th>userID</th>\n",
       "      <th></th>\n",
       "      <th></th>\n",
       "      <th></th>\n",
       "      <th></th>\n",
       "      <th></th>\n",
       "      <th></th>\n",
       "      <th></th>\n",
       "      <th></th>\n",
       "      <th></th>\n",
       "      <th></th>\n",
       "      <th></th>\n",
       "      <th></th>\n",
       "      <th></th>\n",
       "      <th></th>\n",
       "      <th></th>\n",
       "      <th></th>\n",
       "      <th></th>\n",
       "      <th></th>\n",
       "      <th></th>\n",
       "      <th></th>\n",
       "      <th></th>\n",
       "    </tr>\n",
       "  </thead>\n",
       "  <tbody>\n",
       "    <tr>\n",
       "      <th>10025</th>\n",
       "      <td>NaN</td>\n",
       "      <td>NaN</td>\n",
       "      <td>NaN</td>\n",
       "      <td>NaN</td>\n",
       "      <td>NaN</td>\n",
       "      <td>NaN</td>\n",
       "      <td>NaN</td>\n",
       "      <td>NaN</td>\n",
       "      <td>NaN</td>\n",
       "      <td>NaN</td>\n",
       "      <td>...</td>\n",
       "      <td>NaN</td>\n",
       "      <td>NaN</td>\n",
       "      <td>NaN</td>\n",
       "      <td>NaN</td>\n",
       "      <td>NaN</td>\n",
       "      <td>NaN</td>\n",
       "      <td>NaN</td>\n",
       "      <td>NaN</td>\n",
       "      <td>NaN</td>\n",
       "      <td>NaN</td>\n",
       "    </tr>\n",
       "    <tr>\n",
       "      <th>10058</th>\n",
       "      <td>NaN</td>\n",
       "      <td>NaN</td>\n",
       "      <td>NaN</td>\n",
       "      <td>NaN</td>\n",
       "      <td>NaN</td>\n",
       "      <td>NaN</td>\n",
       "      <td>NaN</td>\n",
       "      <td>NaN</td>\n",
       "      <td>NaN</td>\n",
       "      <td>NaN</td>\n",
       "      <td>...</td>\n",
       "      <td>NaN</td>\n",
       "      <td>NaN</td>\n",
       "      <td>NaN</td>\n",
       "      <td>NaN</td>\n",
       "      <td>NaN</td>\n",
       "      <td>NaN</td>\n",
       "      <td>NaN</td>\n",
       "      <td>NaN</td>\n",
       "      <td>NaN</td>\n",
       "      <td>NaN</td>\n",
       "    </tr>\n",
       "    <tr>\n",
       "      <th>10064</th>\n",
       "      <td>NaN</td>\n",
       "      <td>NaN</td>\n",
       "      <td>NaN</td>\n",
       "      <td>NaN</td>\n",
       "      <td>NaN</td>\n",
       "      <td>NaN</td>\n",
       "      <td>NaN</td>\n",
       "      <td>NaN</td>\n",
       "      <td>NaN</td>\n",
       "      <td>NaN</td>\n",
       "      <td>...</td>\n",
       "      <td>NaN</td>\n",
       "      <td>NaN</td>\n",
       "      <td>NaN</td>\n",
       "      <td>NaN</td>\n",
       "      <td>NaN</td>\n",
       "      <td>NaN</td>\n",
       "      <td>NaN</td>\n",
       "      <td>NaN</td>\n",
       "      <td>NaN</td>\n",
       "      <td>NaN</td>\n",
       "    </tr>\n",
       "    <tr>\n",
       "      <th>10084</th>\n",
       "      <td>4.5</td>\n",
       "      <td>NaN</td>\n",
       "      <td>NaN</td>\n",
       "      <td>NaN</td>\n",
       "      <td>NaN</td>\n",
       "      <td>NaN</td>\n",
       "      <td>NaN</td>\n",
       "      <td>NaN</td>\n",
       "      <td>NaN</td>\n",
       "      <td>NaN</td>\n",
       "      <td>...</td>\n",
       "      <td>NaN</td>\n",
       "      <td>NaN</td>\n",
       "      <td>NaN</td>\n",
       "      <td>NaN</td>\n",
       "      <td>NaN</td>\n",
       "      <td>NaN</td>\n",
       "      <td>NaN</td>\n",
       "      <td>NaN</td>\n",
       "      <td>NaN</td>\n",
       "      <td>NaN</td>\n",
       "    </tr>\n",
       "    <tr>\n",
       "      <th>10094</th>\n",
       "      <td>2.0</td>\n",
       "      <td>NaN</td>\n",
       "      <td>NaN</td>\n",
       "      <td>NaN</td>\n",
       "      <td>NaN</td>\n",
       "      <td>NaN</td>\n",
       "      <td>NaN</td>\n",
       "      <td>NaN</td>\n",
       "      <td>NaN</td>\n",
       "      <td>NaN</td>\n",
       "      <td>...</td>\n",
       "      <td>NaN</td>\n",
       "      <td>NaN</td>\n",
       "      <td>NaN</td>\n",
       "      <td>NaN</td>\n",
       "      <td>NaN</td>\n",
       "      <td>NaN</td>\n",
       "      <td>NaN</td>\n",
       "      <td>NaN</td>\n",
       "      <td>NaN</td>\n",
       "      <td>NaN</td>\n",
       "    </tr>\n",
       "  </tbody>\n",
       "</table>\n",
       "<p>5 rows × 10109 columns</p>\n",
       "</div>"
      ],
      "text/plain": [
       "movieID    1  10  100  1000  1001  1002  1003  1004  1005  1006 ...   99  990  \\\n",
       "userID                                                          ...             \n",
       "10025    NaN NaN  NaN   NaN   NaN   NaN   NaN   NaN   NaN   NaN ...  NaN  NaN   \n",
       "10058    NaN NaN  NaN   NaN   NaN   NaN   NaN   NaN   NaN   NaN ...  NaN  NaN   \n",
       "10064    NaN NaN  NaN   NaN   NaN   NaN   NaN   NaN   NaN   NaN ...  NaN  NaN   \n",
       "10084    4.5 NaN  NaN   NaN   NaN   NaN   NaN   NaN   NaN   NaN ...  NaN  NaN   \n",
       "10094    2.0 NaN  NaN   NaN   NaN   NaN   NaN   NaN   NaN   NaN ...  NaN  NaN   \n",
       "\n",
       "movieID  991  992  993  994  996  997  998  999  \n",
       "userID                                           \n",
       "10025    NaN  NaN  NaN  NaN  NaN  NaN  NaN  NaN  \n",
       "10058    NaN  NaN  NaN  NaN  NaN  NaN  NaN  NaN  \n",
       "10064    NaN  NaN  NaN  NaN  NaN  NaN  NaN  NaN  \n",
       "10084    NaN  NaN  NaN  NaN  NaN  NaN  NaN  NaN  \n",
       "10094    NaN  NaN  NaN  NaN  NaN  NaN  NaN  NaN  \n",
       "\n",
       "[5 rows x 10109 columns]"
      ]
     },
     "execution_count": 2,
     "metadata": {},
     "output_type": "execute_result"
    }
   ],
   "source": [
    "# User movie ratings dataframe preview \n",
    "print(str.format('Users: {}'.format(df_user_movie_ratings.shape[0])))\n",
    "print(str.format('Movies: {}'.format(df_user_movie_ratings.shape[1])))\n",
    "df_user_movie_ratings.head()"
   ]
  },
  {
   "cell_type": "code",
   "execution_count": 3,
   "metadata": {
    "scrolled": true
   },
   "outputs": [
    {
     "name": "stdout",
     "output_type": "stream",
     "text": [
      "2018-02-04 09:33:35.285605\n",
      "2018-02-04 09:33:37.804366\n"
     ]
    },
    {
     "name": "stderr",
     "output_type": "stream",
     "text": [
      "//anaconda/lib/python3.5/site-packages/ipykernel_launcher.py:21: SettingWithCopyWarning: \n",
      "A value is trying to be set on a copy of a slice from a DataFrame.\n",
      "Try using .loc[row_indexer,col_indexer] = value instead\n",
      "\n",
      "See the caveats in the documentation: http://pandas.pydata.org/pandas-docs/stable/indexing.html#indexing-view-versus-copy\n",
      "//anaconda/lib/python3.5/site-packages/ipykernel_launcher.py:24: SettingWithCopyWarning: \n",
      "A value is trying to be set on a copy of a slice from a DataFrame\n",
      "\n",
      "See the caveats in the documentation: http://pandas.pydata.org/pandas-docs/stable/indexing.html#indexing-view-versus-copy\n"
     ]
    }
   ],
   "source": [
    "def hamming_distance(userID_1, userID_2):\n",
    "    '''\n",
    "    Finds hamming distance between two users.\n",
    "    Hamming distance is the number of features that differ between the two users.\n",
    "    \n",
    "    '''\n",
    "    distance = hamming(df_user_movie_ratings.loc[userID_1], df_user_movie_ratings.loc[userID_2])\n",
    "    return distance\n",
    "\n",
    "def find_knn(userID, k=3):\n",
    "    '''\n",
    "    Finds k nearest neighbors of userID based on hamming distance\n",
    "    \n",
    "    param userID: userID to get neighbors for\n",
    "    param k: number of neighbors\n",
    "    '''\n",
    "    # Get data for all other users except specified user\n",
    "    df_other_user_movie_ratings = df_user_movie_ratings.loc[df_user_movie_ratings.index != userID]\n",
    "    \n",
    "    # Calculate distance between specified user and all other users\n",
    "    df_other_user_movie_ratings['distance'] = df_other_user_movie_ratings.apply(lambda row: hamming_distance(userID,row.name), axis=1)\n",
    "    \n",
    "    # Sort users by distance (closest first)\n",
    "    df_other_user_movie_ratings.sort_values(['distance'],axis=0,inplace=True)\n",
    "    \n",
    "    # Take top k users (k nearest users)\n",
    "    df_other_user_movie_ratings = df_other_user_movie_ratings.iloc[0:k]\n",
    "    \n",
    "    return df_other_user_movie_ratings\n",
    "\n",
    "###\n",
    "print(datetime.datetime.now())\n",
    "userID = '10058'\n",
    "#df_user_movie_ratings = df_user_movie_ratings.iloc[0:11]\n",
    "df_knn = find_knn(userID,k=10)\n",
    "print(datetime.datetime.now())"
   ]
  },
  {
   "cell_type": "code",
   "execution_count": 4,
   "metadata": {},
   "outputs": [
    {
     "name": "stdout",
     "output_type": "stream",
     "text": [
      "2018-02-04 09:33:40.600710\n",
      "2018-02-04 09:33:50.419901\n"
     ]
    }
   ],
   "source": [
    "def get_unrated_movies_for_user(userID):\n",
    "    '''\n",
    "    Gets unrated movies from user/movie ratings matrix by finding row of userID, \n",
    "    then finding any column (movieID) with a null value\n",
    "    \n",
    "    param userID: userID to get unrated movies for\n",
    "    \n",
    "    return: list of movieID's that the specified user has not rated yet\n",
    "    '''\n",
    "    \n",
    "    # n = single user's movie ratings\n",
    "    n = df_user_movie_ratings.loc[df_user_movie_ratings.index == userID]\n",
    "    cols = list(n.columns)\n",
    "    unrated_movies = [cols[i] for i in range(len(cols)) if pd.isnull(n[str(cols[i])][0])]\n",
    "    \n",
    "    return unrated_movies\n",
    "\n",
    "###\n",
    "print(datetime.datetime.now())\n",
    "# Get mean of movie ratings for nearest neighbors\n",
    "# avg = df_knn.fillna(value=0).agg(['mean'], numeric_only=True)\n",
    "avg = df_knn.agg(['mean'], numeric_only=True)\n",
    "\n",
    "# Place avg movie ratings into a column, then remove any movies rated by the user\n",
    "unrated_movies = get_unrated_movies_for_user(userID)\n",
    "avg_filtered = avg.transpose().loc[unrated_movies]\n",
    "\n",
    "# Sort movies based on mean average (descending)\n",
    "avg_sorted = avg_filtered.sort_values(['mean'],axis=0,ascending=False)\n",
    "print(datetime.datetime.now())"
   ]
  },
  {
   "cell_type": "code",
   "execution_count": 5,
   "metadata": {
    "scrolled": true
   },
   "outputs": [
    {
     "data": {
      "text/html": [
       "<div>\n",
       "<style>\n",
       "    .dataframe thead tr:only-child th {\n",
       "        text-align: right;\n",
       "    }\n",
       "\n",
       "    .dataframe thead th {\n",
       "        text-align: left;\n",
       "    }\n",
       "\n",
       "    .dataframe tbody tr th {\n",
       "        vertical-align: top;\n",
       "    }\n",
       "</style>\n",
       "<table border=\"1\" class=\"dataframe\">\n",
       "  <thead>\n",
       "    <tr style=\"text-align: right;\">\n",
       "      <th></th>\n",
       "      <th>mean</th>\n",
       "    </tr>\n",
       "  </thead>\n",
       "  <tbody>\n",
       "    <tr>\n",
       "      <th>8684</th>\n",
       "      <td>5.0</td>\n",
       "    </tr>\n",
       "    <tr>\n",
       "      <th>921</th>\n",
       "      <td>5.0</td>\n",
       "    </tr>\n",
       "    <tr>\n",
       "      <th>3811</th>\n",
       "      <td>5.0</td>\n",
       "    </tr>\n",
       "    <tr>\n",
       "      <th>3814</th>\n",
       "      <td>5.0</td>\n",
       "    </tr>\n",
       "    <tr>\n",
       "      <th>3822</th>\n",
       "      <td>5.0</td>\n",
       "    </tr>\n",
       "    <tr>\n",
       "      <th>6609</th>\n",
       "      <td>5.0</td>\n",
       "    </tr>\n",
       "    <tr>\n",
       "      <th>8256</th>\n",
       "      <td>5.0</td>\n",
       "    </tr>\n",
       "    <tr>\n",
       "      <th>8197</th>\n",
       "      <td>5.0</td>\n",
       "    </tr>\n",
       "    <tr>\n",
       "      <th>7938</th>\n",
       "      <td>5.0</td>\n",
       "    </tr>\n",
       "    <tr>\n",
       "      <th>4658</th>\n",
       "      <td>5.0</td>\n",
       "    </tr>\n",
       "  </tbody>\n",
       "</table>\n",
       "</div>"
      ],
      "text/plain": [
       "      mean\n",
       "8684   5.0\n",
       "921    5.0\n",
       "3811   5.0\n",
       "3814   5.0\n",
       "3822   5.0\n",
       "6609   5.0\n",
       "8256   5.0\n",
       "8197   5.0\n",
       "7938   5.0\n",
       "4658   5.0"
      ]
     },
     "execution_count": 5,
     "metadata": {},
     "output_type": "execute_result"
    }
   ],
   "source": [
    "top_recommendations = avg_sorted[0:10]\n",
    "top_recommendations"
   ]
  },
  {
   "cell_type": "code",
   "execution_count": 6,
   "metadata": {
    "collapsed": true
   },
   "outputs": [],
   "source": [
    "def get_movie_details(movie_id):\n",
    "    movie_details = {}\n",
    "    movie_details['title'] = [df_movies.loc[df_movies.id == movie_id].iloc[0].title]\n",
    "    movie_details['actors'] = list(df_movie_actors.loc[df_movie_actors.movieID == movie_id].actorName)\n",
    "    movie_details['director'] = [df_movie_directors.loc[df_movie_directors.movieID == movie_id].iloc[0].directorName]\n",
    "    movie_details['genres'] = list(df_movie_genres.loc[df_movie_genres.movieID == movie_id].genre)\n",
    "    \n",
    "    return movie_details\n",
    "\n",
    "def movie_details_to_df(movie_details):\n",
    "    data = [movie_details['title'],\n",
    "            movie_details['director'],\n",
    "            movie_details['actors'],\n",
    "            movie_details['genres']] \n",
    "    \n",
    "    df = pd.DataFrame(data).transpose().fillna(value='')\n",
    "    df.columns=['title','director','actors','genres']\n",
    "    \n",
    "    return df\n",
    "\n",
    "# Get list of all movie details after converting each set of movie details to a dataframe\n",
    "movie_details_df_list = [movie_details_to_df(get_movie_details(movieID)) for movieID in list(top_recommendations.index)]\n",
    "\n",
    "# Concatenate all movies into a single dataframe for futher analysis\n",
    "df_movie_details = pd.concat(movie_details_df_list)\n",
    "\n",
    "# Create an ID column\n",
    "df_movie_details['id'] = range(df_movie_details.shape[0])"
   ]
  },
  {
   "cell_type": "code",
   "execution_count": 6,
   "metadata": {},
   "outputs": [
    {
     "name": "stdout",
     "output_type": "stream",
     "text": [
      "genres\n",
      "Drama        8\n",
      "Romance      3\n",
      "War          2\n",
      "Comedy       2\n",
      "Thriller     1\n",
      "Mystery      1\n",
      "Horror       1\n",
      "Adventure    1\n",
      "Name: title, dtype: int64\n",
      "actors\n",
      "Jessica Harper        2\n",
      "Fred Kohler Jr.       1\n",
      "Frank Wilson          1\n",
      "Frank Adu             1\n",
      "Francesco Leonetti    1\n",
      "Franca Cupane         1\n",
      "Fox Harris            1\n",
      "Florian               1\n",
      "Ferruccio Nuzzo       1\n",
      "Ferdinand Munier      1\n",
      "Name: id, dtype: int64\n",
      "director\n",
      "Woody Allen             1\n",
      "Rouben Mamoulian        1\n",
      "Robert Bresson          1\n",
      "Richard Benjamin        1\n",
      "Pier Paolo Pasolini     1\n",
      "Patrice Leconte         1\n",
      "Ingmar Bergman          1\n",
      "Bruce Beresford         1\n",
      "Alejandro Jodorowsky    1\n",
      "Alain Resnais           1\n",
      "Name: id, dtype: int64\n"
     ]
    }
   ],
   "source": [
    "# Look for favorite genres\n",
    "print(df_movie_details.groupby('genres')['title'].count().drop('').sort_values(ascending=False))\n",
    "\n",
    "# look for favorite actors\n",
    "print(df_movie_details.groupby('actors')['id'].count().sort_values(ascending=False).iloc[0:10])\n",
    "\n",
    "# look for favorite directors\n",
    "print(df_movie_details.groupby('director')['id'].count().drop('').sort_values(ascending=False))"
   ]
  },
  {
   "cell_type": "code",
   "execution_count": 38,
   "metadata": {},
   "outputs": [],
   "source": [
    "'''\n",
    "for index, row in df.iterrows():\n",
    "    print row['c1'], row['c2']\n",
    "'''\n",
    "# Look for unique titles\n",
    "titles = pd.Series(df_movie_details['title'].unique())\n",
    "titles = [value for index, value in titles.iteritems() if value != '']\n",
    "\n",
    "# Look for favorite genres\n",
    "genres = df_movie_details.groupby('genres')['title'].count().drop('').sort_values(ascending=False)\n",
    "genres = [index + ', ' + str(value) for index, value in genres.iteritems()]\n",
    "\n",
    "# look for favorite actors\n",
    "actors = df_movie_details.groupby('actors')['id'].count().sort_values(ascending=False).iloc[0:10]\n",
    "actors = [index + ', ' + str(value) for index, value in actors.iteritems()]\n",
    "\n",
    "# look for favorite directors\n",
    "directors = df_movie_details.groupby('director')['id'].count().drop('').sort_values(ascending=False)\n",
    "directors = [index + ', ' + str(value) for index, value in directors.iteritems()]\n",
    "\n",
    "results = {\n",
    "    'titles': titles,\n",
    "    'stats':{\n",
    "        'genres': genres,\n",
    "        'actors': actors,\n",
    "        'directors': directors\n",
    "    }\n",
    "}"
   ]
  },
  {
   "cell_type": "code",
   "execution_count": 39,
   "metadata": {},
   "outputs": [
    {
     "data": {
      "text/plain": [
       "{'stats': {'actors': ['Jessica Harper, 2',\n",
       "   'Fred Kohler Jr., 1',\n",
       "   'Frank Wilson, 1',\n",
       "   'Frank Adu, 1',\n",
       "   'Francesco Leonetti, 1',\n",
       "   'Franca Cupane, 1',\n",
       "   'Fox Harris, 1',\n",
       "   'Florian, 1',\n",
       "   'Ferruccio Nuzzo, 1',\n",
       "   'Ferdinand Munier, 1'],\n",
       "  'directors': ['Woody Allen, 1',\n",
       "   'Rouben Mamoulian, 1',\n",
       "   'Robert Bresson, 1',\n",
       "   'Richard Benjamin, 1',\n",
       "   'Pier Paolo Pasolini, 1',\n",
       "   'Patrice Leconte, 1',\n",
       "   'Ingmar Bergman, 1',\n",
       "   'Bruce Beresford, 1',\n",
       "   'Alejandro Jodorowsky, 1',\n",
       "   'Alain Resnais, 1'],\n",
       "  'genres': ['Drama, 8',\n",
       "   'Romance, 3',\n",
       "   'War, 2',\n",
       "   'Comedy, 2',\n",
       "   'Thriller, 1',\n",
       "   'Mystery, 1',\n",
       "   'Horror, 1',\n",
       "   'Adventure, 1']},\n",
       " 'titles': [\"Un condamn� � mort s'est �chapp� ou Le vent souffle o� il veut\",\n",
       "  'My Favorite Year',\n",
       "  \"'Breaker' Morant\",\n",
       "  'Love and Death',\n",
       "  'La fille sur le pont',\n",
       "  'Il vangelo secondo Matteo',\n",
       "  'Queen Christina',\n",
       "  'Hiroshima mon amour',\n",
       "  'Nattvardsg�sterna',\n",
       "  'Santa sangre']}"
      ]
     },
     "execution_count": 39,
     "metadata": {},
     "output_type": "execute_result"
    }
   ],
   "source": [
    "results"
   ]
  },
  {
   "cell_type": "code",
   "execution_count": 37,
   "metadata": {},
   "outputs": [
    {
     "data": {
      "text/plain": [
       "'{\"genres\": [\"Drama, 8\", \"Romance, 3\", \"War, 2\", \"Comedy, 2\", \"Thriller, 1\", \"Mystery, 1\", \"Horror, 1\", \"Adventure, 1\"], \"titles\": [\"Un condamn\\\\ufffd \\\\ufffd mort s\\'est \\\\ufffdchapp\\\\ufffd ou Le vent souffle o\\\\ufffd il veut\", \"My Favorite Year\", \"\\'Breaker\\' Morant\", \"Love and Death\", \"La fille sur le pont\", \"Il vangelo secondo Matteo\", \"Queen Christina\", \"Hiroshima mon amour\", \"Nattvardsg\\\\ufffdsterna\", \"Santa sangre\"], \"actors\": [\"Jessica Harper, 2\", \"Fred Kohler Jr., 1\", \"Frank Wilson, 1\", \"Frank Adu, 1\", \"Francesco Leonetti, 1\", \"Franca Cupane, 1\", \"Fox Harris, 1\", \"Florian, 1\", \"Ferruccio Nuzzo, 1\", \"Ferdinand Munier, 1\"], \"directors\": [\"Woody Allen, 1\", \"Rouben Mamoulian, 1\", \"Robert Bresson, 1\", \"Richard Benjamin, 1\", \"Pier Paolo Pasolini, 1\", \"Patrice Leconte, 1\", \"Ingmar Bergman, 1\", \"Bruce Beresford, 1\", \"Alejandro Jodorowsky, 1\", \"Alain Resnais, 1\"]}'"
      ]
     },
     "execution_count": 37,
     "metadata": {},
     "output_type": "execute_result"
    }
   ],
   "source": [
    "import json\n",
    "json.dumps(results)"
   ]
  },
  {
   "cell_type": "code",
   "execution_count": 41,
   "metadata": {},
   "outputs": [],
   "source": [
    "import datetime\n",
    "a = datetime.datetime.now()"
   ]
  },
  {
   "cell_type": "code",
   "execution_count": 42,
   "metadata": {
    "collapsed": true
   },
   "outputs": [],
   "source": [
    "b = datetime.datetime.now()"
   ]
  },
  {
   "cell_type": "code",
   "execution_count": 45,
   "metadata": {},
   "outputs": [
    {
     "name": "stdout",
     "output_type": "stream",
     "text": [
      "{'stats': {'genres': ['Drama, 8', 'Romance, 3', 'War, 2', 'Comedy, 2', 'Thriller, 1', 'Mystery, 1', 'Horror, 1', 'Adventure, 1'], 'directors': ['Woody Allen, 1', 'Rouben Mamoulian, 1', 'Robert Bresson, 1', 'Richard Benjamin, 1', 'Pier Paolo Pasolini, 1', 'Patrice Leconte, 1', 'Ingmar Bergman, 1', 'Bruce Beresford, 1', 'Alejandro Jodorowsky, 1', 'Alain Resnais, 1'], 'actors': ['Jessica Harper, 2', 'Fred Kohler Jr., 1', 'Frank Wilson, 1', 'Frank Adu, 1', 'Francesco Leonetti, 1', 'Franca Cupane, 1', 'Fox Harris, 1', 'Florian, 1', 'Ferruccio Nuzzo, 1', 'Ferdinand Munier, 1']}, 'titles': [\"Un condamn� � mort s'est �chapp� ou Le vent souffle o� il veut\", 'My Favorite Year', \"'Breaker' Morant\", 'Love and Death', 'La fille sur le pont', 'Il vangelo secondo Matteo', 'Queen Christina', 'Hiroshima mon amour', 'Nattvardsg�sterna', 'Santa sangre']}\n"
     ]
    }
   ],
   "source": [
    "print(str(results))"
   ]
  },
  {
   "cell_type": "code",
   "execution_count": 44,
   "metadata": {},
   "outputs": [
    {
     "data": {
      "text/plain": [
       "'Time to process request: 0:00:08.200070'"
      ]
     },
     "execution_count": 44,
     "metadata": {},
     "output_type": "execute_result"
    }
   ],
   "source": [
    "'Time to process request: ' + str(b-a)"
   ]
  },
  {
   "cell_type": "code",
   "execution_count": 47,
   "metadata": {},
   "outputs": [
    {
     "data": {
      "text/plain": [
       "'{\"stats\": {\"genres\": [\"Drama, 8\", \"Romance, 3\", \"War, 2\", \"Comedy, 2\", \"Thriller, 1\", \"Mystery, 1\", \"Horror, 1\", \"Adventure, 1\"], \"directors\": [\"Woody Allen, 1\", \"Rouben Mamoulian, 1\", \"Robert Bresson, 1\", \"Richard Benjamin, 1\", \"Pier Paolo Pasolini, 1\", \"Patrice Leconte, 1\", \"Ingmar Bergman, 1\", \"Bruce Beresford, 1\", \"Alejandro Jodorowsky, 1\", \"Alain Resnais, 1\"], \"actors\": [\"Jessica Harper, 2\", \"Fred Kohler Jr., 1\", \"Frank Wilson, 1\", \"Frank Adu, 1\", \"Francesco Leonetti, 1\", \"Franca Cupane, 1\", \"Fox Harris, 1\", \"Florian, 1\", \"Ferruccio Nuzzo, 1\", \"Ferdinand Munier, 1\"]}, \"titles\": [\"Un condamn\\\\ufffd \\\\ufffd mort s\\'est \\\\ufffdchapp\\\\ufffd ou Le vent souffle o\\\\ufffd il veut\", \"My Favorite Year\", \"\\'Breaker\\' Morant\", \"Love and Death\", \"La fille sur le pont\", \"Il vangelo secondo Matteo\", \"Queen Christina\", \"Hiroshima mon amour\", \"Nattvardsg\\\\ufffdsterna\", \"Santa sangre\"]}'"
      ]
     },
     "execution_count": 47,
     "metadata": {},
     "output_type": "execute_result"
    }
   ],
   "source": [
    "json.dumps(results)"
   ]
  },
  {
   "cell_type": "code",
   "execution_count": null,
   "metadata": {
    "collapsed": true
   },
   "outputs": [],
   "source": []
  }
 ],
 "metadata": {
  "kernelspec": {
   "display_name": "Python 3",
   "language": "python",
   "name": "python3"
  },
  "language_info": {
   "codemirror_mode": {
    "name": "ipython",
    "version": 3
   },
   "file_extension": ".py",
   "mimetype": "text/x-python",
   "name": "python",
   "nbconvert_exporter": "python",
   "pygments_lexer": "ipython3",
   "version": "3.5.3"
  }
 },
 "nbformat": 4,
 "nbformat_minor": 2
}
