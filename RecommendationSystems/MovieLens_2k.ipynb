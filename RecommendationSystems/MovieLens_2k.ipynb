{
 "cells": [
  {
   "cell_type": "code",
   "execution_count": null,
   "metadata": {
    "collapsed": true
   },
   "outputs": [],
   "source": [
    "'''\n",
    "Exercise in Collaborative Filtering using data from MovieLens + IMDB/RottenTomatoes\n",
    "\n",
    "Process:\n",
    "    1. Import and clean data \n",
    "    2. Define necessary functions\n",
    "        - Get \n",
    "\n",
    "\n",
    "'''"
   ]
  },
  {
   "cell_type": "code",
   "execution_count": 26,
   "metadata": {
    "collapsed": true
   },
   "outputs": [],
   "source": [
    "import pandas as pd\n",
    "from scipy.spatial.distance import hamming\n",
    "\n",
    "# 1) Import and clean data\n",
    "def file_to_df(path, usecols, delimiter=','):\n",
    "    '''\n",
    "    Import text file data to a pandas dataframe object\n",
    "    \n",
    "    param path: path of text file containing data to import\n",
    "    param usecols: list of columns to take\n",
    "    param delimiter: character used to separate data elements in a line\n",
    "    \n",
    "    return: DataFrame object of data frm text file\n",
    "    '''\n",
    "    # Read file line-by-line into a list\n",
    "    with open(path, errors='replace') as file:\n",
    "        data = file.readlines()\n",
    "    \n",
    "    # Clean data\n",
    "    for i in range(len(data)):\n",
    "        data[i] = data[i].replace('\\n', '') # Remove newline chars\n",
    "    \n",
    "    # Convert array of strings into 2D list of strings\n",
    "    data = [line.split(delimiter) for line in data]\n",
    "    \n",
    "    # Convert 2D list to a DataFrame object\n",
    "    df = pd.DataFrame(data)\n",
    "    \n",
    "    # Set column names to values in first row\n",
    "    df.columns = list(df.iloc[0])\n",
    "\n",
    "    # Take specified columns only\n",
    "    df = df[usecols]\n",
    "    \n",
    "    # Delete first row since it contains column names and not values\n",
    "    df = df.drop(0)\n",
    "    \n",
    "    # Reset to 0-based index\n",
    "    df.index = range(len(df.index))\n",
    "    \n",
    "    return df\n",
    "\n",
    "# Set data file paths\n",
    "movies_path = 'data/movielens_2k/movies.dat'\n",
    "movie_actors_path = 'data/movielens_2k/movie_actors.dat'\n",
    "movie_directors_path = 'data/movielens_2k/movie_directors.dat'\n",
    "movie_genres_path = 'data/movielens_2k/movie_genres.dat'\n",
    "user_rated_movies_path = 'data/movielens_2k/user_ratedmovies.dat'\n",
    "\n",
    "# Import data, clean it, and output to dataframes\n",
    "df_movies = file_to_df(movies_path, delimiter='\\t', usecols=['id','title','imdbID','rtID','rtAllCriticsRating','rtAllCriticsNumReviews','rtAllCriticsScore','rtTopCriticsRating','rtTopCriticsNumReviews','rtTopCriticsNumFresh','rtTopCriticsNumRotten','rtTopCriticsScore','rtAudienceRating','rtAudienceNumRatings','rtAudienceScore'])\n",
    "df_movie_actors = file_to_df(movie_actors_path, delimiter='\\t', usecols=['movieID','actorID','actorName','ranking'])\n",
    "df_movie_directors = file_to_df(movie_directors_path, delimiter='\\t', usecols=['movieID','directorID','directorName'])\n",
    "df_movie_genres = file_to_df(movie_genres_path, delimiter='\\t', usecols=['movieID','genre'])\n",
    "df_user_rated_movies = file_to_df(user_rated_movies_path, delimiter='\\t', usecols=['userID','movieID','rating']) \n",
    "\n",
    "# Create User/Movie ratings matrix\n",
    "df_user_movie_ratings = df_user_rated_movies.pivot(index='userID', columns='movieID', values='rating')\n",
    "df_user_movie_ratings['userID'] = df_user_movie_ratings.index"
   ]
  },
  {
   "cell_type": "code",
   "execution_count": 29,
   "metadata": {
    "collapsed": true
   },
   "outputs": [],
   "source": [
    "def hamming_distance(userID_1, userID_2):\n",
    "    '''\n",
    "    Finds hamming distance between two users.\n",
    "    Hamming distance is the number of features that differ between the two users.\n",
    "    \n",
    "    '''\n",
    "    user_1 = df_user_movie_ratings.transpose()[userID_1]\n",
    "    user_2 = df_user_movie_ratings.transpose()[userID_2]\n",
    "    distance = hamming(userID_1, userID_2)\n",
    "    return distance\n",
    "\n",
    "def find_knn(userID, k=3):\n",
    "    '''\n",
    "    Finds k nearest neighbors of userID based on euclidean distance\n",
    "    \n",
    "    param userID: userID to get neighbors for\n",
    "    param k: number of neighbors\n",
    "    '''\n",
    "    df_other_user_movie_ratings = df_user_movie_ratings[df_user_movie_ratings.index != userID]\n",
    "    df_other_user_movie_ratings['distance'] = df_other_user_movie_ratings['userID'].apply(lambda other_userID: hamming_distance(userID,other_userID))\n",
    "    # sort by distance\n",
    "    # get top K neighbors\n",
    "    # return top K neighbors\n",
    "\n",
    "df_other_user_movie_ratings = df_user_movie_ratings[df_user_movie_ratings.index != '75']\n",
    "df_other_user_movie_ratings['distance'] = df_other_user_movie_ratings['userID'].apply(lambda other_userID: hamming_distance('75',other_userID))"
   ]
  },
  {
   "cell_type": "code",
   "execution_count": 30,
   "metadata": {},
   "outputs": [
    {
     "ename": "KeyboardInterrupt",
     "evalue": "",
     "output_type": "error",
     "traceback": [
      "\u001b[1;31m---------------------------------------------------------------------------\u001b[0m",
      "\u001b[1;31mKeyboardInterrupt\u001b[0m                         Traceback (most recent call last)",
      "\u001b[1;32m<ipython-input-30-a4f7b47b5a80>\u001b[0m in \u001b[0;36m<module>\u001b[1;34m()\u001b[0m\n\u001b[0;32m      1\u001b[0m \u001b[0mdf_other_user_movie_ratings\u001b[0m \u001b[1;33m=\u001b[0m \u001b[0mdf_user_movie_ratings\u001b[0m\u001b[1;33m[\u001b[0m\u001b[0mdf_user_movie_ratings\u001b[0m\u001b[1;33m.\u001b[0m\u001b[0mindex\u001b[0m \u001b[1;33m!=\u001b[0m \u001b[1;34m'75'\u001b[0m\u001b[1;33m]\u001b[0m\u001b[1;33m\u001b[0m\u001b[0m\n\u001b[1;32m----> 2\u001b[1;33m \u001b[0mdf_other_user_movie_ratings\u001b[0m\u001b[1;33m[\u001b[0m\u001b[1;34m'distance'\u001b[0m\u001b[1;33m]\u001b[0m \u001b[1;33m=\u001b[0m \u001b[0mdf_other_user_movie_ratings\u001b[0m\u001b[1;33m[\u001b[0m\u001b[1;34m'userID'\u001b[0m\u001b[1;33m]\u001b[0m\u001b[1;33m.\u001b[0m\u001b[0mapply\u001b[0m\u001b[1;33m(\u001b[0m\u001b[1;32mlambda\u001b[0m \u001b[0mother_userID\u001b[0m\u001b[1;33m:\u001b[0m \u001b[0mhamming_distance\u001b[0m\u001b[1;33m(\u001b[0m\u001b[1;34m'75'\u001b[0m\u001b[1;33m,\u001b[0m\u001b[0mother_userID\u001b[0m\u001b[1;33m)\u001b[0m\u001b[1;33m)\u001b[0m\u001b[1;33m\u001b[0m\u001b[0m\n\u001b[0m",
      "\u001b[1;32mC:\\Program Files\\Anaconda3\\lib\\site-packages\\pandas\\core\\series.py\u001b[0m in \u001b[0;36mapply\u001b[1;34m(self, func, convert_dtype, args, **kwds)\u001b[0m\n\u001b[0;32m   2353\u001b[0m             \u001b[1;32melse\u001b[0m\u001b[1;33m:\u001b[0m\u001b[1;33m\u001b[0m\u001b[0m\n\u001b[0;32m   2354\u001b[0m                 \u001b[0mvalues\u001b[0m \u001b[1;33m=\u001b[0m \u001b[0mself\u001b[0m\u001b[1;33m.\u001b[0m\u001b[0masobject\u001b[0m\u001b[1;33m\u001b[0m\u001b[0m\n\u001b[1;32m-> 2355\u001b[1;33m                 \u001b[0mmapped\u001b[0m \u001b[1;33m=\u001b[0m \u001b[0mlib\u001b[0m\u001b[1;33m.\u001b[0m\u001b[0mmap_infer\u001b[0m\u001b[1;33m(\u001b[0m\u001b[0mvalues\u001b[0m\u001b[1;33m,\u001b[0m \u001b[0mf\u001b[0m\u001b[1;33m,\u001b[0m \u001b[0mconvert\u001b[0m\u001b[1;33m=\u001b[0m\u001b[0mconvert_dtype\u001b[0m\u001b[1;33m)\u001b[0m\u001b[1;33m\u001b[0m\u001b[0m\n\u001b[0m\u001b[0;32m   2356\u001b[0m \u001b[1;33m\u001b[0m\u001b[0m\n\u001b[0;32m   2357\u001b[0m         \u001b[1;32mif\u001b[0m \u001b[0mlen\u001b[0m\u001b[1;33m(\u001b[0m\u001b[0mmapped\u001b[0m\u001b[1;33m)\u001b[0m \u001b[1;32mand\u001b[0m \u001b[0misinstance\u001b[0m\u001b[1;33m(\u001b[0m\u001b[0mmapped\u001b[0m\u001b[1;33m[\u001b[0m\u001b[1;36m0\u001b[0m\u001b[1;33m]\u001b[0m\u001b[1;33m,\u001b[0m \u001b[0mSeries\u001b[0m\u001b[1;33m)\u001b[0m\u001b[1;33m:\u001b[0m\u001b[1;33m\u001b[0m\u001b[0m\n",
      "\u001b[1;32mpandas\\_libs\\src\\inference.pyx\u001b[0m in \u001b[0;36mpandas._libs.lib.map_infer (pandas\\_libs\\lib.c:66440)\u001b[1;34m()\u001b[0m\n",
      "\u001b[1;32m<ipython-input-30-a4f7b47b5a80>\u001b[0m in \u001b[0;36m<lambda>\u001b[1;34m(other_userID)\u001b[0m\n\u001b[0;32m      1\u001b[0m \u001b[0mdf_other_user_movie_ratings\u001b[0m \u001b[1;33m=\u001b[0m \u001b[0mdf_user_movie_ratings\u001b[0m\u001b[1;33m[\u001b[0m\u001b[0mdf_user_movie_ratings\u001b[0m\u001b[1;33m.\u001b[0m\u001b[0mindex\u001b[0m \u001b[1;33m!=\u001b[0m \u001b[1;34m'75'\u001b[0m\u001b[1;33m]\u001b[0m\u001b[1;33m\u001b[0m\u001b[0m\n\u001b[1;32m----> 2\u001b[1;33m \u001b[0mdf_other_user_movie_ratings\u001b[0m\u001b[1;33m[\u001b[0m\u001b[1;34m'distance'\u001b[0m\u001b[1;33m]\u001b[0m \u001b[1;33m=\u001b[0m \u001b[0mdf_other_user_movie_ratings\u001b[0m\u001b[1;33m[\u001b[0m\u001b[1;34m'userID'\u001b[0m\u001b[1;33m]\u001b[0m\u001b[1;33m.\u001b[0m\u001b[0mapply\u001b[0m\u001b[1;33m(\u001b[0m\u001b[1;32mlambda\u001b[0m \u001b[0mother_userID\u001b[0m\u001b[1;33m:\u001b[0m \u001b[0mhamming_distance\u001b[0m\u001b[1;33m(\u001b[0m\u001b[1;34m'75'\u001b[0m\u001b[1;33m,\u001b[0m\u001b[0mother_userID\u001b[0m\u001b[1;33m)\u001b[0m\u001b[1;33m)\u001b[0m\u001b[1;33m\u001b[0m\u001b[0m\n\u001b[0m",
      "\u001b[1;32m<ipython-input-29-e5585d0b1e03>\u001b[0m in \u001b[0;36mhamming_distance\u001b[1;34m(userID_1, userID_2)\u001b[0m\n\u001b[0;32m      6\u001b[0m     '''\n\u001b[0;32m      7\u001b[0m     \u001b[0muser_1\u001b[0m \u001b[1;33m=\u001b[0m \u001b[0mdf_user_movie_ratings\u001b[0m\u001b[1;33m.\u001b[0m\u001b[0mtranspose\u001b[0m\u001b[1;33m(\u001b[0m\u001b[1;33m)\u001b[0m\u001b[1;33m[\u001b[0m\u001b[0muserID_1\u001b[0m\u001b[1;33m]\u001b[0m\u001b[1;33m\u001b[0m\u001b[0m\n\u001b[1;32m----> 8\u001b[1;33m     \u001b[0muser_2\u001b[0m \u001b[1;33m=\u001b[0m \u001b[0mdf_user_movie_ratings\u001b[0m\u001b[1;33m.\u001b[0m\u001b[0mtranspose\u001b[0m\u001b[1;33m(\u001b[0m\u001b[1;33m)\u001b[0m\u001b[1;33m[\u001b[0m\u001b[0muserID_2\u001b[0m\u001b[1;33m]\u001b[0m\u001b[1;33m\u001b[0m\u001b[0m\n\u001b[0m\u001b[0;32m      9\u001b[0m     \u001b[0mdistance\u001b[0m \u001b[1;33m=\u001b[0m \u001b[0mhamming\u001b[0m\u001b[1;33m(\u001b[0m\u001b[0muserID_1\u001b[0m\u001b[1;33m,\u001b[0m \u001b[0muserID_2\u001b[0m\u001b[1;33m)\u001b[0m\u001b[1;33m\u001b[0m\u001b[0m\n\u001b[0;32m     10\u001b[0m     \u001b[1;32mreturn\u001b[0m \u001b[0mdistance\u001b[0m\u001b[1;33m\u001b[0m\u001b[0m\n",
      "\u001b[1;32mC:\\Program Files\\Anaconda3\\lib\\site-packages\\pandas\\core\\frame.py\u001b[0m in \u001b[0;36mtranspose\u001b[1;34m(self, *args, **kwargs)\u001b[0m\n\u001b[0;32m   1855\u001b[0m         \u001b[1;34m\"\"\"Transpose index and columns\"\"\"\u001b[0m\u001b[1;33m\u001b[0m\u001b[0m\n\u001b[0;32m   1856\u001b[0m         \u001b[0mnv\u001b[0m\u001b[1;33m.\u001b[0m\u001b[0mvalidate_transpose\u001b[0m\u001b[1;33m(\u001b[0m\u001b[0margs\u001b[0m\u001b[1;33m,\u001b[0m \u001b[0mdict\u001b[0m\u001b[1;33m(\u001b[0m\u001b[1;33m)\u001b[0m\u001b[1;33m)\u001b[0m\u001b[1;33m\u001b[0m\u001b[0m\n\u001b[1;32m-> 1857\u001b[1;33m         \u001b[1;32mreturn\u001b[0m \u001b[0msuper\u001b[0m\u001b[1;33m(\u001b[0m\u001b[0mDataFrame\u001b[0m\u001b[1;33m,\u001b[0m \u001b[0mself\u001b[0m\u001b[1;33m)\u001b[0m\u001b[1;33m.\u001b[0m\u001b[0mtranspose\u001b[0m\u001b[1;33m(\u001b[0m\u001b[1;36m1\u001b[0m\u001b[1;33m,\u001b[0m \u001b[1;36m0\u001b[0m\u001b[1;33m,\u001b[0m \u001b[1;33m**\u001b[0m\u001b[0mkwargs\u001b[0m\u001b[1;33m)\u001b[0m\u001b[1;33m\u001b[0m\u001b[0m\n\u001b[0m\u001b[0;32m   1858\u001b[0m \u001b[1;33m\u001b[0m\u001b[0m\n\u001b[0;32m   1859\u001b[0m     \u001b[0mT\u001b[0m \u001b[1;33m=\u001b[0m \u001b[0mproperty\u001b[0m\u001b[1;33m(\u001b[0m\u001b[0mtranspose\u001b[0m\u001b[1;33m)\u001b[0m\u001b[1;33m\u001b[0m\u001b[0m\n",
      "\u001b[1;32mC:\\Program Files\\Anaconda3\\lib\\site-packages\\pandas\\core\\generic.py\u001b[0m in \u001b[0;36mtranspose\u001b[1;34m(self, *args, **kwargs)\u001b[0m\n\u001b[0;32m    514\u001b[0m \u001b[1;33m\u001b[0m\u001b[0m\n\u001b[0;32m    515\u001b[0m         \u001b[0mnv\u001b[0m\u001b[1;33m.\u001b[0m\u001b[0mvalidate_transpose_for_generic\u001b[0m\u001b[1;33m(\u001b[0m\u001b[0mself\u001b[0m\u001b[1;33m,\u001b[0m \u001b[0mkwargs\u001b[0m\u001b[1;33m)\u001b[0m\u001b[1;33m\u001b[0m\u001b[0m\n\u001b[1;32m--> 516\u001b[1;33m         \u001b[1;32mreturn\u001b[0m \u001b[0mself\u001b[0m\u001b[1;33m.\u001b[0m\u001b[0m_constructor\u001b[0m\u001b[1;33m(\u001b[0m\u001b[0mnew_values\u001b[0m\u001b[1;33m,\u001b[0m \u001b[1;33m**\u001b[0m\u001b[0mnew_axes\u001b[0m\u001b[1;33m)\u001b[0m\u001b[1;33m.\u001b[0m\u001b[0m__finalize__\u001b[0m\u001b[1;33m(\u001b[0m\u001b[0mself\u001b[0m\u001b[1;33m)\u001b[0m\u001b[1;33m\u001b[0m\u001b[0m\n\u001b[0m\u001b[0;32m    517\u001b[0m \u001b[1;33m\u001b[0m\u001b[0m\n\u001b[0;32m    518\u001b[0m     \u001b[1;32mdef\u001b[0m \u001b[0mswapaxes\u001b[0m\u001b[1;33m(\u001b[0m\u001b[0mself\u001b[0m\u001b[1;33m,\u001b[0m \u001b[0maxis1\u001b[0m\u001b[1;33m,\u001b[0m \u001b[0maxis2\u001b[0m\u001b[1;33m,\u001b[0m \u001b[0mcopy\u001b[0m\u001b[1;33m=\u001b[0m\u001b[1;32mTrue\u001b[0m\u001b[1;33m)\u001b[0m\u001b[1;33m:\u001b[0m\u001b[1;33m\u001b[0m\u001b[0m\n",
      "\u001b[1;32mC:\\Program Files\\Anaconda3\\lib\\site-packages\\pandas\\core\\frame.py\u001b[0m in \u001b[0;36m__init__\u001b[1;34m(self, data, index, columns, dtype, copy)\u001b[0m\n\u001b[0;32m    304\u001b[0m             \u001b[1;32melse\u001b[0m\u001b[1;33m:\u001b[0m\u001b[1;33m\u001b[0m\u001b[0m\n\u001b[0;32m    305\u001b[0m                 mgr = self._init_ndarray(data, index, columns, dtype=dtype,\n\u001b[1;32m--> 306\u001b[1;33m                                          copy=copy)\n\u001b[0m\u001b[0;32m    307\u001b[0m         \u001b[1;32melif\u001b[0m \u001b[0misinstance\u001b[0m\u001b[1;33m(\u001b[0m\u001b[0mdata\u001b[0m\u001b[1;33m,\u001b[0m \u001b[1;33m(\u001b[0m\u001b[0mlist\u001b[0m\u001b[1;33m,\u001b[0m \u001b[0mtypes\u001b[0m\u001b[1;33m.\u001b[0m\u001b[0mGeneratorType\u001b[0m\u001b[1;33m)\u001b[0m\u001b[1;33m)\u001b[0m\u001b[1;33m:\u001b[0m\u001b[1;33m\u001b[0m\u001b[0m\n\u001b[0;32m    308\u001b[0m             \u001b[1;32mif\u001b[0m \u001b[0misinstance\u001b[0m\u001b[1;33m(\u001b[0m\u001b[0mdata\u001b[0m\u001b[1;33m,\u001b[0m \u001b[0mtypes\u001b[0m\u001b[1;33m.\u001b[0m\u001b[0mGeneratorType\u001b[0m\u001b[1;33m)\u001b[0m\u001b[1;33m:\u001b[0m\u001b[1;33m\u001b[0m\u001b[0m\n",
      "\u001b[1;32mC:\\Program Files\\Anaconda3\\lib\\site-packages\\pandas\\core\\frame.py\u001b[0m in \u001b[0;36m_init_ndarray\u001b[1;34m(self, values, index, columns, dtype, copy)\u001b[0m\n\u001b[0;32m    479\u001b[0m         \u001b[1;31m# embedded in an object type\u001b[0m\u001b[1;33m\u001b[0m\u001b[1;33m\u001b[0m\u001b[0m\n\u001b[0;32m    480\u001b[0m         \u001b[1;32mif\u001b[0m \u001b[0mdtype\u001b[0m \u001b[1;32mis\u001b[0m \u001b[1;32mNone\u001b[0m \u001b[1;32mand\u001b[0m \u001b[0mis_object_dtype\u001b[0m\u001b[1;33m(\u001b[0m\u001b[0mvalues\u001b[0m\u001b[1;33m)\u001b[0m\u001b[1;33m:\u001b[0m\u001b[1;33m\u001b[0m\u001b[0m\n\u001b[1;32m--> 481\u001b[1;33m             \u001b[0mvalues\u001b[0m \u001b[1;33m=\u001b[0m \u001b[0mmaybe_infer_to_datetimelike\u001b[0m\u001b[1;33m(\u001b[0m\u001b[0mvalues\u001b[0m\u001b[1;33m)\u001b[0m\u001b[1;33m\u001b[0m\u001b[0m\n\u001b[0m\u001b[0;32m    482\u001b[0m \u001b[1;33m\u001b[0m\u001b[0m\n\u001b[0;32m    483\u001b[0m         \u001b[1;32mreturn\u001b[0m \u001b[0mcreate_block_manager_from_blocks\u001b[0m\u001b[1;33m(\u001b[0m\u001b[1;33m[\u001b[0m\u001b[0mvalues\u001b[0m\u001b[1;33m]\u001b[0m\u001b[1;33m,\u001b[0m \u001b[1;33m[\u001b[0m\u001b[0mcolumns\u001b[0m\u001b[1;33m,\u001b[0m \u001b[0mindex\u001b[0m\u001b[1;33m]\u001b[0m\u001b[1;33m)\u001b[0m\u001b[1;33m\u001b[0m\u001b[0m\n",
      "\u001b[1;32mC:\\Program Files\\Anaconda3\\lib\\site-packages\\pandas\\core\\dtypes\\cast.py\u001b[0m in \u001b[0;36mmaybe_infer_to_datetimelike\u001b[1;34m(value, convert_dates)\u001b[0m\n\u001b[0;32m    807\u001b[0m         \u001b[0mv\u001b[0m \u001b[1;33m=\u001b[0m \u001b[0mv\u001b[0m\u001b[1;33m.\u001b[0m\u001b[0mravel\u001b[0m\u001b[1;33m(\u001b[0m\u001b[1;33m)\u001b[0m\u001b[1;33m\u001b[0m\u001b[0m\n\u001b[0;32m    808\u001b[0m \u001b[1;33m\u001b[0m\u001b[0m\n\u001b[1;32m--> 809\u001b[1;33m     \u001b[1;32mif\u001b[0m \u001b[1;32mnot\u001b[0m \u001b[0mlen\u001b[0m\u001b[1;33m(\u001b[0m\u001b[0mv\u001b[0m\u001b[1;33m)\u001b[0m\u001b[1;33m:\u001b[0m\u001b[1;33m\u001b[0m\u001b[0m\n\u001b[0m\u001b[0;32m    810\u001b[0m         \u001b[1;32mreturn\u001b[0m \u001b[0mvalue\u001b[0m\u001b[1;33m\u001b[0m\u001b[0m\n\u001b[0;32m    811\u001b[0m \u001b[1;33m\u001b[0m\u001b[0m\n",
      "\u001b[1;31mKeyboardInterrupt\u001b[0m: "
     ]
    }
   ],
   "source": [
    "df_other_user_movie_ratings = df_user_movie_ratings[df_user_movie_ratings.index != '75']\n",
    "df_other_user_movie_ratings['distance'] = df_other_user_movie_ratings['userID'].apply(lambda other_userID: hamming_distance('75',other_userID))"
   ]
  },
  {
   "cell_type": "code",
   "execution_count": 117,
   "metadata": {
    "scrolled": false
   },
   "outputs": [
    {
     "data": {
      "text/plain": [
       "userID\n",
       "75    None\n",
       "dtype: object"
      ]
     },
     "execution_count": 117,
     "metadata": {},
     "output_type": "execute_result"
    }
   ],
   "source": [
    "def get_unrated_movies_for_user(userID):\n",
    "    '''\n",
    "    Gets unrated movies from user/movie ratings matrix by finding row of userID, \n",
    "    then finding any column (movieID) with a null value\n",
    "    \n",
    "    param userID: userID to get unrated movies for\n",
    "    \n",
    "    return: list of movieID's that the specified user has not rated yet\n",
    "    '''\n",
    "    \n",
    "    # n = single user's movie ratings\n",
    "    n = df_user_movie_ratings[df_user_movie_ratings.index == userID]\n",
    "    cols = list(n.columns)\n",
    "    df_users_unrated_movies = [cols[i] for i in range(len(cols)) if n[str(cols[i])][0] == None]\n",
    "    \n",
    "    return df_users_unrated_movies\n",
    "\n",
    "#\n",
    "#*** Not needed ***\n",
    "#\n",
    "#def get_unrated_movies_for_all():\n",
    "#    '''\n",
    "#    Get lists of all unrated movies for each user\n",
    "#    \n",
    "#    return: dictionary where userID's are the keys and the lists of their unrated movies are the values\n",
    "#    '''\n",
    "#    # Get unique set of users\n",
    "#    unique_users = list(df_user_movie_ratings.index)\n",
    "#\n",
    "#    # For each user, get movies that have not yet been rated\n",
    "#    user_unrated_movies = {}\n",
    "#    for userID in unique_users:\n",
    "#        unrated_movies = get_unrated_movies_for_user(userID)\n",
    "#        user_unrated_movies[userID] = unrated_movies\n",
    "#\n",
    "#    return user_unrated_movies\n",
    "\n",
    "user_unrated_movies = get_unrated_movies_for_user('75')"
   ]
  },
  {
   "cell_type": "code",
   "execution_count": 24,
   "metadata": {},
   "outputs": [],
   "source": [
    "user_1 = df_user_movie_ratings.transpose()['75']\n",
    "user_2 = df_user_movie_ratings.transpose()['10025']\n",
    "distance = hamming('75', '10025')"
   ]
  },
  {
   "cell_type": "code",
   "execution_count": 25,
   "metadata": {},
   "outputs": [
    {
     "data": {
      "text/plain": [
       "1.0"
      ]
     },
     "execution_count": 25,
     "metadata": {},
     "output_type": "execute_result"
    }
   ],
   "source": [
    "distance"
   ]
  },
  {
   "cell_type": "code",
   "execution_count": 13,
   "metadata": {},
   "outputs": [
    {
     "data": {
      "text/plain": [
       "userID\n",
       "10025    10025\n",
       "10058    10058\n",
       "10064    10064\n",
       "10084    10084\n",
       "10094    10094\n",
       "10125    10125\n",
       "10132    10132\n",
       "10154    10154\n",
       "1017      1017\n",
       "10181    10181\n",
       "10191    10191\n",
       "10200    10200\n",
       "10231    10231\n",
       "10272    10272\n",
       "10335    10335\n",
       "1035      1035\n",
       "10420    10420\n",
       "1047      1047\n",
       "10476    10476\n",
       "10479    10479\n",
       "10516    10516\n",
       "10521    10521\n",
       "10563    10563\n",
       "10639    10639\n",
       "10652    10652\n",
       "10674    10674\n",
       "10739    10739\n",
       "10783    10783\n",
       "10791    10791\n",
       "10844    10844\n",
       "         ...  \n",
       "8892      8892\n",
       "8893      8893\n",
       "8905      8905\n",
       "8930      8930\n",
       "894        894\n",
       "8970      8970\n",
       "8996      8996\n",
       "9029      9029\n",
       "9034      9034\n",
       "9060      9060\n",
       "9085      9085\n",
       "9117      9117\n",
       "9127      9127\n",
       "9134      9134\n",
       "9139      9139\n",
       "9177      9177\n",
       "922        922\n",
       "9245      9245\n",
       "9277      9277\n",
       "937        937\n",
       "9370      9370\n",
       "9411      9411\n",
       "9415      9415\n",
       "9470      9470\n",
       "9475      9475\n",
       "9522      9522\n",
       "9593      9593\n",
       "9595      9595\n",
       "9807      9807\n",
       "9889      9889\n",
       "Name: userID, Length: 2113, dtype: object"
      ]
     },
     "execution_count": 13,
     "metadata": {},
     "output_type": "execute_result"
    }
   ],
   "source": [
    "df_user_movie_ratings['userID']"
   ]
  },
  {
   "cell_type": "code",
   "execution_count": null,
   "metadata": {
    "collapsed": true
   },
   "outputs": [],
   "source": []
  }
 ],
 "metadata": {
  "kernelspec": {
   "display_name": "Python 3",
   "language": "python",
   "name": "python3"
  },
  "language_info": {
   "codemirror_mode": {
    "name": "ipython",
    "version": 3
   },
   "file_extension": ".py",
   "mimetype": "text/x-python",
   "name": "python",
   "nbconvert_exporter": "python",
   "pygments_lexer": "ipython3",
   "version": "3.6.1"
  }
 },
 "nbformat": 4,
 "nbformat_minor": 2
}
