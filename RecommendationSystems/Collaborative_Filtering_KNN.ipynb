{
 "cells": [
  {
   "cell_type": "code",
   "execution_count": null,
   "metadata": {
    "collapsed": true
   },
   "outputs": [],
   "source": [
    "'''\n",
    "Collaborative filtering: Choose top N books to recommend to a user\n",
    "\n",
    "\n",
    "Process:\n",
    "    1. Find K nearest neighbors of a user\n",
    "    2. Fill in unrated products by taking a weighted average of nearest neighbors that have rated the product (more similar = more weight)\n",
    "    3. Sort unrated products by their estimated ratings in descending order\n",
    "    4. Pick top 10\n",
    "\n",
    "Workflow:\n",
    "    1. Set up the data\n",
    "    2. Construct a rating matrix\n",
    "    3. Find K nearest neighbors\n",
    "    4. Find top N recommendations\n",
    "\n",
    "Distance metrics\n",
    "    - Euclidean distance\n",
    "    - Correlation distance = 1 - correlation\n",
    "    - Hamming distance (how many numbers match) = % of numbers in disagreement\n",
    "\n",
    "\n",
    "Data source: http://www2.informatik.uni-freiburg.de/~cziegler/BX/\n",
    "'''"
   ]
  },
  {
   "cell_type": "code",
   "execution_count": 34,
   "metadata": {},
   "outputs": [
    {
     "data": {
      "text/html": [
       "<div>\n",
       "<style>\n",
       "    .dataframe thead tr:only-child th {\n",
       "        text-align: right;\n",
       "    }\n",
       "\n",
       "    .dataframe thead th {\n",
       "        text-align: left;\n",
       "    }\n",
       "\n",
       "    .dataframe tbody tr th {\n",
       "        vertical-align: top;\n",
       "    }\n",
       "</style>\n",
       "<table border=\"1\" class=\"dataframe\">\n",
       "  <thead>\n",
       "    <tr style=\"text-align: right;\">\n",
       "      <th></th>\n",
       "      <th>user</th>\n",
       "      <th>isbn</th>\n",
       "      <th>rating</th>\n",
       "    </tr>\n",
       "  </thead>\n",
       "  <tbody>\n",
       "    <tr>\n",
       "      <th>0</th>\n",
       "      <td>276725</td>\n",
       "      <td>034545104X</td>\n",
       "      <td>0</td>\n",
       "    </tr>\n",
       "    <tr>\n",
       "      <th>1</th>\n",
       "      <td>276726</td>\n",
       "      <td>0155061224</td>\n",
       "      <td>5</td>\n",
       "    </tr>\n",
       "    <tr>\n",
       "      <th>2</th>\n",
       "      <td>276727</td>\n",
       "      <td>0446520802</td>\n",
       "      <td>0</td>\n",
       "    </tr>\n",
       "    <tr>\n",
       "      <th>3</th>\n",
       "      <td>276729</td>\n",
       "      <td>052165615X</td>\n",
       "      <td>3</td>\n",
       "    </tr>\n",
       "    <tr>\n",
       "      <th>4</th>\n",
       "      <td>276729</td>\n",
       "      <td>0521795028</td>\n",
       "      <td>6</td>\n",
       "    </tr>\n",
       "  </tbody>\n",
       "</table>\n",
       "</div>"
      ],
      "text/plain": [
       "     user        isbn  rating\n",
       "0  276725  034545104X       0\n",
       "1  276726  0155061224       5\n",
       "2  276727  0446520802       0\n",
       "3  276729  052165615X       3\n",
       "4  276729  0521795028       6"
      ]
     },
     "execution_count": 34,
     "metadata": {},
     "output_type": "execute_result"
    }
   ],
   "source": [
    "import pandas as pd\n",
    "dataFile = 'data/BX-Book-Ratings.csv'\n",
    "data = pd.read_csv(dataFile, sep=';', header=0, names=[\"user\",\"isbn\",\"rating\"], encoding='ANSI')\n",
    "data.head() # view top 5 rows"
   ]
  },
  {
   "cell_type": "code",
   "execution_count": 29,
   "metadata": {},
   "outputs": [
    {
     "data": {
      "text/html": [
       "<div>\n",
       "<style>\n",
       "    .dataframe thead tr:only-child th {\n",
       "        text-align: right;\n",
       "    }\n",
       "\n",
       "    .dataframe thead th {\n",
       "        text-align: left;\n",
       "    }\n",
       "\n",
       "    .dataframe tbody tr th {\n",
       "        vertical-align: top;\n",
       "    }\n",
       "</style>\n",
       "<table border=\"1\" class=\"dataframe\">\n",
       "  <thead>\n",
       "    <tr style=\"text-align: right;\">\n",
       "      <th></th>\n",
       "      <th>title</th>\n",
       "      <th>author</th>\n",
       "    </tr>\n",
       "    <tr>\n",
       "      <th>isbn</th>\n",
       "      <th></th>\n",
       "      <th></th>\n",
       "    </tr>\n",
       "  </thead>\n",
       "  <tbody>\n",
       "    <tr>\n",
       "      <th>0195153448</th>\n",
       "      <td>Classical Mythology</td>\n",
       "      <td>Mark P. O. Morford</td>\n",
       "    </tr>\n",
       "    <tr>\n",
       "      <th>0002005018</th>\n",
       "      <td>Clara Callan</td>\n",
       "      <td>Richard Bruce Wright</td>\n",
       "    </tr>\n",
       "    <tr>\n",
       "      <th>0060973129</th>\n",
       "      <td>Decision in Normandy</td>\n",
       "      <td>Carlo D'Este</td>\n",
       "    </tr>\n",
       "    <tr>\n",
       "      <th>0374157065</th>\n",
       "      <td>Flu: The Story of the Great Influenza Pandemic...</td>\n",
       "      <td>Gina Bari Kolata</td>\n",
       "    </tr>\n",
       "    <tr>\n",
       "      <th>0393045218</th>\n",
       "      <td>The Mummies of Urumchi</td>\n",
       "      <td>E. J. W. Barber</td>\n",
       "    </tr>\n",
       "  </tbody>\n",
       "</table>\n",
       "</div>"
      ],
      "text/plain": [
       "                                                        title  \\\n",
       "isbn                                                            \n",
       "0195153448                                Classical Mythology   \n",
       "0002005018                                       Clara Callan   \n",
       "0060973129                               Decision in Normandy   \n",
       "0374157065  Flu: The Story of the Great Influenza Pandemic...   \n",
       "0393045218                             The Mummies of Urumchi   \n",
       "\n",
       "                          author  \n",
       "isbn                              \n",
       "0195153448    Mark P. O. Morford  \n",
       "0002005018  Richard Bruce Wright  \n",
       "0060973129          Carlo D'Este  \n",
       "0374157065      Gina Bari Kolata  \n",
       "0393045218       E. J. W. Barber  "
      ]
     },
     "execution_count": 29,
     "metadata": {},
     "output_type": "execute_result"
    }
   ],
   "source": [
    "bookFile = 'data/BX-Books.csv'\n",
    "books = pd.read_csv(bookFile, sep=';', header=0, names=[\"isbn\",\"title\",\"author\"], encoding='ANSI', error_bad_lines=False, usecols=[0,1,2], index_col=0)\n",
    "books.head()"
   ]
  },
  {
   "cell_type": "code",
   "execution_count": 35,
   "metadata": {},
   "outputs": [
    {
     "name": "stdout",
     "output_type": "stream",
     "text": [
      "Original data shape: (1149780, 3)\n",
      "Data shape after removing inconsistencies: (1031175, 3)\n"
     ]
    }
   ],
   "source": [
    "# Get rid of any inconsistent ISBN's since data is not perfect\n",
    "original_size = data.shape\n",
    "data = data[data[\"isbn\"].isin(books.index)]\n",
    "new_size = data.shape\n",
    "\n",
    "print('Original data shape: {}'.format(original_size))\n",
    "print('Data shape after removing inconsistencies: {}'.format(new_size))"
   ]
  },
  {
   "cell_type": "code",
   "execution_count": 14,
   "metadata": {},
   "outputs": [
    {
     "data": {
      "text/plain": [
       "('Classical Mythology', 'Mark P. O. Morford')"
      ]
     },
     "execution_count": 14,
     "metadata": {},
     "output_type": "execute_result"
    }
   ],
   "source": [
    "def bookMeta(isbn):\n",
    "    '''\n",
    "    Get book data by entering the isbn\n",
    "    '''\n",
    "    title = books.at[isbn,\"title\"]\n",
    "    author = books.at[isbn,\"author\"]\n",
    "    return title, author\n",
    "\n",
    "# Test call\n",
    "bookMeta('0195153448')"
   ]
  },
  {
   "cell_type": "code",
   "execution_count": 27,
   "metadata": {},
   "outputs": [
    {
     "data": {
      "text/html": [
       "<div>\n",
       "<style>\n",
       "    .dataframe thead tr:only-child th {\n",
       "        text-align: right;\n",
       "    }\n",
       "\n",
       "    .dataframe thead th {\n",
       "        text-align: left;\n",
       "    }\n",
       "\n",
       "    .dataframe tbody tr th {\n",
       "        vertical-align: top;\n",
       "    }\n",
       "</style>\n",
       "<table border=\"1\" class=\"dataframe\">\n",
       "  <thead>\n",
       "    <tr style=\"text-align: right;\">\n",
       "      <th></th>\n",
       "      <th>user</th>\n",
       "      <th>isbn</th>\n",
       "      <th>rating</th>\n",
       "      <th>title</th>\n",
       "    </tr>\n",
       "  </thead>\n",
       "  <tbody>\n",
       "    <tr>\n",
       "      <th>4</th>\n",
       "      <td>276729</td>\n",
       "      <td>0521795028</td>\n",
       "      <td>6</td>\n",
       "      <td>(The Amsterdam Connection : Level 4 (Cambridge...</td>\n",
       "    </tr>\n",
       "    <tr>\n",
       "      <th>3</th>\n",
       "      <td>276729</td>\n",
       "      <td>052165615X</td>\n",
       "      <td>3</td>\n",
       "      <td>(Help!: Level 1, Philip Prowse)</td>\n",
       "    </tr>\n",
       "  </tbody>\n",
       "</table>\n",
       "</div>"
      ],
      "text/plain": [
       "     user        isbn  rating  \\\n",
       "4  276729  0521795028       6   \n",
       "3  276729  052165615X       3   \n",
       "\n",
       "                                               title  \n",
       "4  (The Amsterdam Connection : Level 4 (Cambridge...  \n",
       "3                    (Help!: Level 1, Philip Prowse)  "
      ]
     },
     "execution_count": 27,
     "metadata": {},
     "output_type": "execute_result"
    }
   ],
   "source": [
    "def faveBooks(user,N):\n",
    "    '''\n",
    "    Get top N favorite books for user\n",
    "    \n",
    "        1. Get data for specified user\n",
    "        2. Sort data by rating\n",
    "        3. Add \"title\" column by applying bookMeta() method to entire ISBN column\n",
    "    '''\n",
    "    userRatings = data[data[\"user\"] == user]\n",
    "    sortedRatings = pd.DataFrame.sort_values(userRatings,['rating'],ascending=[0])[:N]\n",
    "    sortedRatings[\"title\"] = sortedRatings[\"isbn\"].apply(bookMeta)\n",
    "    return sortedRatings\n",
    "\n",
    "# Test call\n",
    "faveBooks(276729, 5).head()"
   ]
  },
  {
   "cell_type": "code",
   "execution_count": 38,
   "metadata": {},
   "outputs": [
    {
     "data": {
      "text/plain": [
       "0971880107    2502\n",
       "0316666343    1295\n",
       "0385504209     883\n",
       "0060928336     732\n",
       "0312195516     723\n",
       "Name: isbn, dtype: int64"
      ]
     },
     "execution_count": 38,
     "metadata": {},
     "output_type": "execute_result"
    }
   ],
   "source": [
    "# Get number of users per ISBN\n",
    "usersPerISBN = data.isbn.value_counts()\n",
    "usersPerISBN.head()"
   ]
  },
  {
   "cell_type": "code",
   "execution_count": 39,
   "metadata": {},
   "outputs": [
    {
     "data": {
      "text/plain": [
       "(270170,)"
      ]
     },
     "execution_count": 39,
     "metadata": {},
     "output_type": "execute_result"
    }
   ],
   "source": [
    "usersPerISBN.shape # gives number unique of ISBN's"
   ]
  },
  {
   "cell_type": "code",
   "execution_count": 40,
   "metadata": {},
   "outputs": [
    {
     "data": {
      "text/plain": [
       "11676     11144\n",
       "198711     6456\n",
       "153662     5814\n",
       "98391      5779\n",
       "35859      5646\n",
       "Name: user, dtype: int64"
      ]
     },
     "execution_count": 40,
     "metadata": {},
     "output_type": "execute_result"
    }
   ],
   "source": [
    "# ISBNs per user\n",
    "ISBNsPerUser = data.user.value_counts()\n",
    "ISBNsPerUser.head()"
   ]
  },
  {
   "cell_type": "code",
   "execution_count": 42,
   "metadata": {},
   "outputs": [
    {
     "data": {
      "text/plain": [
       "(92107,)"
      ]
     },
     "execution_count": 42,
     "metadata": {},
     "output_type": "execute_result"
    }
   ],
   "source": [
    "ISBNsPerUser.shape # gives number of unique users"
   ]
  },
  {
   "cell_type": "code",
   "execution_count": 45,
   "metadata": {},
   "outputs": [
    {
     "name": "stdout",
     "output_type": "stream",
     "text": [
      "(405709, 3)\n"
     ]
    }
   ],
   "source": [
    "# Reduce sparsity of data matrix by:\n",
    "#   - excluding any isbns that have less than 10 users/ratings\n",
    "#   - excluding any users that have less than 10 books read\n",
    "data = data[data[\"isbn\"].isin(usersPerISBN[usersPerISBN > 10].index)]\n",
    "data = data[data[\"user\"].isin(ISBNsPerUser[ISBNsPerUser > 10].index)]\n",
    "print(data.shape)"
   ]
  },
  {
   "cell_type": "code",
   "execution_count": 46,
   "metadata": {},
   "outputs": [
    {
     "data": {
      "text/html": [
       "<div>\n",
       "<style>\n",
       "    .dataframe thead tr:only-child th {\n",
       "        text-align: right;\n",
       "    }\n",
       "\n",
       "    .dataframe thead th {\n",
       "        text-align: left;\n",
       "    }\n",
       "\n",
       "    .dataframe tbody tr th {\n",
       "        vertical-align: top;\n",
       "    }\n",
       "</style>\n",
       "<table border=\"1\" class=\"dataframe\">\n",
       "  <thead>\n",
       "    <tr style=\"text-align: right;\">\n",
       "      <th>isbn</th>\n",
       "      <th>0002005018</th>\n",
       "      <th>0002251760</th>\n",
       "      <th>0002259834</th>\n",
       "      <th>0002558122</th>\n",
       "      <th>0006480764</th>\n",
       "      <th>000648302X</th>\n",
       "      <th>0006485200</th>\n",
       "      <th>000649840X</th>\n",
       "      <th>000651202X</th>\n",
       "      <th>0006512062</th>\n",
       "      <th>...</th>\n",
       "      <th>8845906884</th>\n",
       "      <th>8845915611</th>\n",
       "      <th>8878188212</th>\n",
       "      <th>8885989403</th>\n",
       "      <th>9074336329</th>\n",
       "      <th>9074336469</th>\n",
       "      <th>950491036X</th>\n",
       "      <th>9681500830</th>\n",
       "      <th>9681500954</th>\n",
       "      <th>9871138016</th>\n",
       "    </tr>\n",
       "    <tr>\n",
       "      <th>user</th>\n",
       "      <th></th>\n",
       "      <th></th>\n",
       "      <th></th>\n",
       "      <th></th>\n",
       "      <th></th>\n",
       "      <th></th>\n",
       "      <th></th>\n",
       "      <th></th>\n",
       "      <th></th>\n",
       "      <th></th>\n",
       "      <th></th>\n",
       "      <th></th>\n",
       "      <th></th>\n",
       "      <th></th>\n",
       "      <th></th>\n",
       "      <th></th>\n",
       "      <th></th>\n",
       "      <th></th>\n",
       "      <th></th>\n",
       "      <th></th>\n",
       "      <th></th>\n",
       "    </tr>\n",
       "  </thead>\n",
       "  <tbody>\n",
       "    <tr>\n",
       "      <th>8</th>\n",
       "      <td>5.0</td>\n",
       "      <td>NaN</td>\n",
       "      <td>NaN</td>\n",
       "      <td>NaN</td>\n",
       "      <td>NaN</td>\n",
       "      <td>NaN</td>\n",
       "      <td>NaN</td>\n",
       "      <td>NaN</td>\n",
       "      <td>NaN</td>\n",
       "      <td>NaN</td>\n",
       "      <td>...</td>\n",
       "      <td>NaN</td>\n",
       "      <td>NaN</td>\n",
       "      <td>NaN</td>\n",
       "      <td>NaN</td>\n",
       "      <td>NaN</td>\n",
       "      <td>NaN</td>\n",
       "      <td>NaN</td>\n",
       "      <td>NaN</td>\n",
       "      <td>NaN</td>\n",
       "      <td>NaN</td>\n",
       "    </tr>\n",
       "    <tr>\n",
       "      <th>99</th>\n",
       "      <td>NaN</td>\n",
       "      <td>NaN</td>\n",
       "      <td>NaN</td>\n",
       "      <td>NaN</td>\n",
       "      <td>NaN</td>\n",
       "      <td>NaN</td>\n",
       "      <td>NaN</td>\n",
       "      <td>NaN</td>\n",
       "      <td>NaN</td>\n",
       "      <td>NaN</td>\n",
       "      <td>...</td>\n",
       "      <td>NaN</td>\n",
       "      <td>NaN</td>\n",
       "      <td>NaN</td>\n",
       "      <td>NaN</td>\n",
       "      <td>NaN</td>\n",
       "      <td>NaN</td>\n",
       "      <td>NaN</td>\n",
       "      <td>NaN</td>\n",
       "      <td>NaN</td>\n",
       "      <td>NaN</td>\n",
       "    </tr>\n",
       "    <tr>\n",
       "      <th>242</th>\n",
       "      <td>NaN</td>\n",
       "      <td>NaN</td>\n",
       "      <td>NaN</td>\n",
       "      <td>NaN</td>\n",
       "      <td>NaN</td>\n",
       "      <td>NaN</td>\n",
       "      <td>NaN</td>\n",
       "      <td>NaN</td>\n",
       "      <td>NaN</td>\n",
       "      <td>NaN</td>\n",
       "      <td>...</td>\n",
       "      <td>NaN</td>\n",
       "      <td>NaN</td>\n",
       "      <td>NaN</td>\n",
       "      <td>NaN</td>\n",
       "      <td>NaN</td>\n",
       "      <td>NaN</td>\n",
       "      <td>NaN</td>\n",
       "      <td>NaN</td>\n",
       "      <td>NaN</td>\n",
       "      <td>NaN</td>\n",
       "    </tr>\n",
       "    <tr>\n",
       "      <th>243</th>\n",
       "      <td>NaN</td>\n",
       "      <td>NaN</td>\n",
       "      <td>NaN</td>\n",
       "      <td>NaN</td>\n",
       "      <td>NaN</td>\n",
       "      <td>NaN</td>\n",
       "      <td>NaN</td>\n",
       "      <td>NaN</td>\n",
       "      <td>NaN</td>\n",
       "      <td>NaN</td>\n",
       "      <td>...</td>\n",
       "      <td>NaN</td>\n",
       "      <td>NaN</td>\n",
       "      <td>NaN</td>\n",
       "      <td>NaN</td>\n",
       "      <td>NaN</td>\n",
       "      <td>NaN</td>\n",
       "      <td>NaN</td>\n",
       "      <td>NaN</td>\n",
       "      <td>NaN</td>\n",
       "      <td>NaN</td>\n",
       "    </tr>\n",
       "    <tr>\n",
       "      <th>254</th>\n",
       "      <td>NaN</td>\n",
       "      <td>NaN</td>\n",
       "      <td>NaN</td>\n",
       "      <td>NaN</td>\n",
       "      <td>NaN</td>\n",
       "      <td>NaN</td>\n",
       "      <td>NaN</td>\n",
       "      <td>NaN</td>\n",
       "      <td>NaN</td>\n",
       "      <td>NaN</td>\n",
       "      <td>...</td>\n",
       "      <td>NaN</td>\n",
       "      <td>NaN</td>\n",
       "      <td>NaN</td>\n",
       "      <td>NaN</td>\n",
       "      <td>NaN</td>\n",
       "      <td>NaN</td>\n",
       "      <td>NaN</td>\n",
       "      <td>NaN</td>\n",
       "      <td>NaN</td>\n",
       "      <td>NaN</td>\n",
       "    </tr>\n",
       "  </tbody>\n",
       "</table>\n",
       "<p>5 rows × 15451 columns</p>\n",
       "</div>"
      ],
      "text/plain": [
       "isbn  0002005018  0002251760  0002259834  0002558122  0006480764  000648302X  \\\n",
       "user                                                                           \n",
       "8            5.0         NaN         NaN         NaN         NaN         NaN   \n",
       "99           NaN         NaN         NaN         NaN         NaN         NaN   \n",
       "242          NaN         NaN         NaN         NaN         NaN         NaN   \n",
       "243          NaN         NaN         NaN         NaN         NaN         NaN   \n",
       "254          NaN         NaN         NaN         NaN         NaN         NaN   \n",
       "\n",
       "isbn  0006485200  000649840X  000651202X  0006512062     ...      8845906884  \\\n",
       "user                                                     ...                   \n",
       "8            NaN         NaN         NaN         NaN     ...             NaN   \n",
       "99           NaN         NaN         NaN         NaN     ...             NaN   \n",
       "242          NaN         NaN         NaN         NaN     ...             NaN   \n",
       "243          NaN         NaN         NaN         NaN     ...             NaN   \n",
       "254          NaN         NaN         NaN         NaN     ...             NaN   \n",
       "\n",
       "isbn  8845915611  8878188212  8885989403  9074336329  9074336469  950491036X  \\\n",
       "user                                                                           \n",
       "8            NaN         NaN         NaN         NaN         NaN         NaN   \n",
       "99           NaN         NaN         NaN         NaN         NaN         NaN   \n",
       "242          NaN         NaN         NaN         NaN         NaN         NaN   \n",
       "243          NaN         NaN         NaN         NaN         NaN         NaN   \n",
       "254          NaN         NaN         NaN         NaN         NaN         NaN   \n",
       "\n",
       "isbn  9681500830  9681500954  9871138016  \n",
       "user                                      \n",
       "8            NaN         NaN         NaN  \n",
       "99           NaN         NaN         NaN  \n",
       "242          NaN         NaN         NaN  \n",
       "243          NaN         NaN         NaN  \n",
       "254          NaN         NaN         NaN  \n",
       "\n",
       "[5 rows x 15451 columns]"
      ]
     },
     "execution_count": 46,
     "metadata": {},
     "output_type": "execute_result"
    }
   ],
   "source": [
    "# Create table where rows=users, columns=isbns, cells=ratings\n",
    "userItemRatingMatrix = pd.pivot_table(data, values='rating', \n",
    "                                      index=['user'], columns=['isbn'])\n",
    "userItemRatingMatrix.head()"
   ]
  },
  {
   "cell_type": "code",
   "execution_count": 56,
   "metadata": {
    "collapsed": true
   },
   "outputs": [],
   "source": [
    "from scipy.spatial.distance import hamming\n",
    "import numpy as np\n",
    "def distance(user1, user2):\n",
    "    '''\n",
    "    Compute hamming distance between two users\n",
    "    '''\n",
    "    try:\n",
    "        user1Ratings = userItemRatingMatrix.transpose()[user1]\n",
    "        user2Ratings = userItemRatingMatrix.transpose()[user2]\n",
    "        distance = hamming(user1Ratings, user2Ratings)\n",
    "    except:\n",
    "        distance = np.NaN\n",
    "    return distance"
   ]
  },
  {
   "cell_type": "code",
   "execution_count": 59,
   "metadata": {},
   "outputs": [
    {
     "name": "stdout",
     "output_type": "stream",
     "text": [
      "Hamming distance between user1 and user2: 1.0\n"
     ]
    }
   ],
   "source": [
    "# Test distance() method\n",
    "user1 = 276762\n",
    "user2 = 276798\n",
    "print('Hamming distance between user1 and user2: {}'.format(distance(user1,user2)))"
   ]
  },
  {
   "cell_type": "code",
   "execution_count": 70,
   "metadata": {},
   "outputs": [
    {
     "data": {
      "text/plain": [
       "3201     82893\n",
       "3368     87555\n",
       "2624     68555\n",
       "1813     48046\n",
       "5401    140036\n",
       "Name: user, dtype: int64"
      ]
     },
     "execution_count": 70,
     "metadata": {},
     "output_type": "execute_result"
    }
   ],
   "source": [
    "def nearestNeighbors(user,K=10):\n",
    "    # Get list of all users, less the active user\n",
    "    allUsers = pd.DataFrame(userItemRatingMatrix.index)\n",
    "    allUsers = allUsers[allUsers.user != user] \n",
    "\n",
    "    # Get distance between active user and all other users\n",
    "    allUsers['distance'] = allUsers['user'].apply(lambda x: distance(user, x))\n",
    "\n",
    "    # Sort values by distance (shortest distance first), then take the top K users\n",
    "    KNearestNeighbors = allUsers.sort_values(['distance'],ascending=True)['user'][:K]\n",
    "    return KNearestNeighbors\n",
    "\n"
   ]
  },
  {
   "cell_type": "code",
   "execution_count": 88,
   "metadata": {
    "collapsed": true
   },
   "outputs": [],
   "source": [
    "def topN(user,N=3):\n",
    "    KNearestUsers = nearestNeighbors(user)\n",
    "    \n",
    "    # Only take rows where user is in KNearestUsers\n",
    "    NNRatings = userItemRatingMatrix[userItemRatingMatrix.index.isin(KNearestUsers)]\n",
    "    \n",
    "    # get average rating for each ISBN and drop any averages equal to NaN\n",
    "    avgRating = NNRatings.apply(np.nanmean).dropna()\n",
    "\n",
    "    # Transpose userItemRatingMatrix and get list of ISBNs for the user\n",
    "    # Drop the rows where the user has not rated the ISBN\n",
    "    booksAlreadyRead = userItemRatingMatrix.transpose()[user].dropna().index\n",
    "\n",
    "    # Remove the books from the avg ratings that have already been read by the user\n",
    "    avgRating = avgRating[~avgRating.index.isin(booksAlreadyRead)]\n",
    "\n",
    "    # sort average ratings in descending order and get the top N results\n",
    "    topNISBNs = avgRating.sort_values(ascending=False).index[:N]\n",
    "    \n",
    "    # Get book data from ISBN's and return the data\n",
    "    return pd.Series(topNISBNs).apply(bookMeta)\n",
    "    \n",
    "    \n",
    "# Test call\n",
    "# user = 204622 # Active user\n",
    "# print(topN(user,3))"
   ]
  },
  {
   "cell_type": "code",
   "execution_count": 84,
   "metadata": {},
   "outputs": [
    {
     "data": {
      "text/html": [
       "<div>\n",
       "<style>\n",
       "    .dataframe thead tr:only-child th {\n",
       "        text-align: right;\n",
       "    }\n",
       "\n",
       "    .dataframe thead th {\n",
       "        text-align: left;\n",
       "    }\n",
       "\n",
       "    .dataframe tbody tr th {\n",
       "        vertical-align: top;\n",
       "    }\n",
       "</style>\n",
       "<table border=\"1\" class=\"dataframe\">\n",
       "  <thead>\n",
       "    <tr style=\"text-align: right;\">\n",
       "      <th></th>\n",
       "      <th>user</th>\n",
       "      <th>isbn</th>\n",
       "      <th>rating</th>\n",
       "      <th>title</th>\n",
       "    </tr>\n",
       "  </thead>\n",
       "  <tbody>\n",
       "    <tr>\n",
       "      <th>845417</th>\n",
       "      <td>204813</td>\n",
       "      <td>0399149848</td>\n",
       "      <td>10</td>\n",
       "      <td>(Birthright, Nora Roberts)</td>\n",
       "    </tr>\n",
       "    <tr>\n",
       "      <th>845407</th>\n",
       "      <td>204813</td>\n",
       "      <td>0385504209</td>\n",
       "      <td>10</td>\n",
       "      <td>(The Da Vinci Code, Dan Brown)</td>\n",
       "    </tr>\n",
       "    <tr>\n",
       "      <th>845382</th>\n",
       "      <td>204813</td>\n",
       "      <td>0373218036</td>\n",
       "      <td>10</td>\n",
       "      <td>(Truly, Madly Manhattan, Nora Roberts)</td>\n",
       "    </tr>\n",
       "    <tr>\n",
       "      <th>845359</th>\n",
       "      <td>204813</td>\n",
       "      <td>0142001805</td>\n",
       "      <td>10</td>\n",
       "      <td>(The Eyre Affair: A Novel, Jasper Fforde)</td>\n",
       "    </tr>\n",
       "    <tr>\n",
       "      <th>845431</th>\n",
       "      <td>204813</td>\n",
       "      <td>0446527793</td>\n",
       "      <td>10</td>\n",
       "      <td>(The Guardian, Nicholas Sparks)</td>\n",
       "    </tr>\n",
       "    <tr>\n",
       "      <th>845416</th>\n",
       "      <td>204813</td>\n",
       "      <td>0399149392</td>\n",
       "      <td>10</td>\n",
       "      <td>(Chesapeake Blue (Quinn Brothers (Hardcover)),...</td>\n",
       "    </tr>\n",
       "    <tr>\n",
       "      <th>845432</th>\n",
       "      <td>204813</td>\n",
       "      <td>0446531332</td>\n",
       "      <td>9</td>\n",
       "      <td>(Nights in Rodanthe, Nicholas Sparks)</td>\n",
       "    </tr>\n",
       "    <tr>\n",
       "      <th>845434</th>\n",
       "      <td>204813</td>\n",
       "      <td>0446606243</td>\n",
       "      <td>9</td>\n",
       "      <td>(The Tenth Justice, Brad Meltzer)</td>\n",
       "    </tr>\n",
       "    <tr>\n",
       "      <th>845451</th>\n",
       "      <td>204813</td>\n",
       "      <td>0671027360</td>\n",
       "      <td>9</td>\n",
       "      <td>(Angels &amp;amp; Demons, Dan Brown)</td>\n",
       "    </tr>\n",
       "    <tr>\n",
       "      <th>845433</th>\n",
       "      <td>204813</td>\n",
       "      <td>0446532452</td>\n",
       "      <td>9</td>\n",
       "      <td>(The Wedding, Nicholas Sparks)</td>\n",
       "    </tr>\n",
       "  </tbody>\n",
       "</table>\n",
       "</div>"
      ],
      "text/plain": [
       "          user        isbn  rating  \\\n",
       "845417  204813  0399149848      10   \n",
       "845407  204813  0385504209      10   \n",
       "845382  204813  0373218036      10   \n",
       "845359  204813  0142001805      10   \n",
       "845431  204813  0446527793      10   \n",
       "845416  204813  0399149392      10   \n",
       "845432  204813  0446531332       9   \n",
       "845434  204813  0446606243       9   \n",
       "845451  204813  0671027360       9   \n",
       "845433  204813  0446532452       9   \n",
       "\n",
       "                                                    title  \n",
       "845417                         (Birthright, Nora Roberts)  \n",
       "845407                     (The Da Vinci Code, Dan Brown)  \n",
       "845382             (Truly, Madly Manhattan, Nora Roberts)  \n",
       "845359          (The Eyre Affair: A Novel, Jasper Fforde)  \n",
       "845431                    (The Guardian, Nicholas Sparks)  \n",
       "845416  (Chesapeake Blue (Quinn Brothers (Hardcover)),...  \n",
       "845432              (Nights in Rodanthe, Nicholas Sparks)  \n",
       "845434                  (The Tenth Justice, Brad Meltzer)  \n",
       "845451                   (Angels &amp; Demons, Dan Brown)  \n",
       "845433                     (The Wedding, Nicholas Sparks)  "
      ]
     },
     "execution_count": 84,
     "metadata": {},
     "output_type": "execute_result"
    }
   ],
   "source": [
    "faveBooks(204813,10)"
   ]
  },
  {
   "cell_type": "code",
   "execution_count": 89,
   "metadata": {},
   "outputs": [
    {
     "name": "stderr",
     "output_type": "stream",
     "text": [
      "C:\\Program Files\\Anaconda3\\lib\\site-packages\\pandas\\core\\frame.py:4416: RuntimeWarning: Mean of empty slice\n",
      "  labels=labels)\n"
     ]
    },
    {
     "data": {
      "text/plain": [
       "0    (Waiting For Nick (Silhouette Special Edition)...\n",
       "1           (Wringer (Trophy Newbery), Jerry Spinelli)\n",
       "2    (The Star Wars Trilogy: Star Wars, the Empire ...\n",
       "3          (One, Two, Buckle My Shoe, Agatha Christie)\n",
       "4                          (On the Road, Jack Kerouac)\n",
       "5                 (Dead Poets Society, N.H. Kleinbaum)\n",
       "6     (Go Ask Alice (Avon/Flare Book), James Jennings)\n",
       "7                        (Carolina Moon, Nora Roberts)\n",
       "8    (Illusions: The Adventures of a Reluctant Mess...\n",
       "9    (You Just Don't Duct Tape a Baby!: True Tales ...\n",
       "Name: isbn, dtype: object"
      ]
     },
     "execution_count": 89,
     "metadata": {},
     "output_type": "execute_result"
    }
   ],
   "source": [
    "topN(204813,10)"
   ]
  },
  {
   "cell_type": "code",
   "execution_count": null,
   "metadata": {
    "collapsed": true
   },
   "outputs": [],
   "source": []
  }
 ],
 "metadata": {
  "kernelspec": {
   "display_name": "Python 3",
   "language": "python",
   "name": "python3"
  },
  "language_info": {
   "codemirror_mode": {
    "name": "ipython",
    "version": 3
   },
   "file_extension": ".py",
   "mimetype": "text/x-python",
   "name": "python",
   "nbconvert_exporter": "python",
   "pygments_lexer": "ipython3",
   "version": "3.6.1"
  }
 },
 "nbformat": 4,
 "nbformat_minor": 2
}
