{
 "cells": [
  {
   "cell_type": "code",
   "execution_count": 2,
   "metadata": {},
   "outputs": [],
   "source": [
    "# import TensorFlow\n",
    "import tensorflow as tf\n",
    "\n",
    "# Create TensorFlow session, the context from which TensorFlow API's will be called\n",
    "sess = tf.Session()"
   ]
  },
  {
   "cell_type": "code",
   "execution_count": 3,
   "metadata": {},
   "outputs": [
    {
     "name": "stdout",
     "output_type": "stream",
     "text": [
      "b'Hello from TensorFlow'\n"
     ]
    }
   ],
   "source": [
    "# Define and print a string\n",
    "hello = tf.constant(\"Hello from TensorFlow\")\n",
    "print(sess.run(hello))"
   ]
  },
  {
   "cell_type": "code",
   "execution_count": 4,
   "metadata": {},
   "outputs": [
    {
     "name": "stdout",
     "output_type": "stream",
     "text": [
      "a + b = 42\n"
     ]
    }
   ],
   "source": [
    "# Do some simple math\n",
    "a = tf.constant(20)\n",
    "b = tf.constant(22)\n",
    "print(\"a + b = {}\".format(sess.run(a + b)))"
   ]
  },
  {
   "cell_type": "code",
   "execution_count": null,
   "metadata": {
    "collapsed": true
   },
   "outputs": [],
   "source": [
    "# Tensor variables are reference variables stored in memory\n",
    "cons = tf.constant(1)\n",
    "var = tf.Variable()\n",
    "placeholder = tf.placeholder(\"float\", name=\"myPlaceholder\")"
   ]
  }
 ],
 "metadata": {
  "kernelspec": {
   "display_name": "Python 3",
   "language": "python",
   "name": "python3"
  },
  "language_info": {
   "codemirror_mode": {
    "name": "ipython",
    "version": 3
   },
   "file_extension": ".py",
   "mimetype": "text/x-python",
   "name": "python",
   "nbconvert_exporter": "python",
   "pygments_lexer": "ipython3",
   "version": "3.6.1"
  }
 },
 "nbformat": 4,
 "nbformat_minor": 2
}
