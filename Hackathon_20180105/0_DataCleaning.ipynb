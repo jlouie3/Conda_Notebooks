{
 "cells": [
  {
   "cell_type": "markdown",
   "metadata": {},
   "source": [
    "# Data Preparation and Persistence\n",
    "---\n",
    "In this notebook, csv data is prepared and stored in a database for persistence."
   ]
  },
  {
   "cell_type": "markdown",
   "metadata": {},
   "source": [
    "### Transactions_By_Dept Data\n",
    "---\n",
    "###### source: https://data.world/zpencer/transaction-itemset"
   ]
  },
  {
   "cell_type": "code",
   "execution_count": 95,
   "metadata": {},
   "outputs": [
    {
     "data": {
      "text/html": [
       "<div>\n",
       "<style scoped>\n",
       "    .dataframe tbody tr th:only-of-type {\n",
       "        vertical-align: middle;\n",
       "    }\n",
       "\n",
       "    .dataframe tbody tr th {\n",
       "        vertical-align: top;\n",
       "    }\n",
       "\n",
       "    .dataframe thead th {\n",
       "        text-align: right;\n",
       "    }\n",
       "</style>\n",
       "<table border=\"1\" class=\"dataframe\">\n",
       "  <thead>\n",
       "    <tr style=\"text-align: right;\">\n",
       "      <th></th>\n",
       "      <th></th>\n",
       "      <th>Department</th>\n",
       "      <th>SalesUnits</th>\n",
       "    </tr>\n",
       "    <tr>\n",
       "      <th>TransactionId</th>\n",
       "      <th>ItemId</th>\n",
       "      <th></th>\n",
       "      <th></th>\n",
       "    </tr>\n",
       "  </thead>\n",
       "  <tbody>\n",
       "    <tr>\n",
       "      <th rowspan=\"5\" valign=\"top\">0</th>\n",
       "      <th>250</th>\n",
       "      <td>0261:HOSIERY</td>\n",
       "      <td>2</td>\n",
       "    </tr>\n",
       "    <tr>\n",
       "      <th>102</th>\n",
       "      <td>0634:VITAMINS &amp; HLTH AIDS</td>\n",
       "      <td>1</td>\n",
       "    </tr>\n",
       "    <tr>\n",
       "      <th>158</th>\n",
       "      <td>0879:PET SUPPLIES</td>\n",
       "      <td>2</td>\n",
       "    </tr>\n",
       "    <tr>\n",
       "      <th>175</th>\n",
       "      <td>0973:CANDY</td>\n",
       "      <td>2</td>\n",
       "    </tr>\n",
       "    <tr>\n",
       "      <th>176</th>\n",
       "      <td>0982:SPIRITS</td>\n",
       "      <td>1</td>\n",
       "    </tr>\n",
       "  </tbody>\n",
       "</table>\n",
       "</div>"
      ],
      "text/plain": [
       "                                     Department  SalesUnits\n",
       "TransactionId ItemId                                       \n",
       "0             250                  0261:HOSIERY           2\n",
       "              102     0634:VITAMINS & HLTH AIDS           1\n",
       "              158             0879:PET SUPPLIES           2\n",
       "              175                    0973:CANDY           2\n",
       "              176                  0982:SPIRITS           1"
      ]
     },
     "execution_count": 95,
     "metadata": {},
     "output_type": "execute_result"
    }
   ],
   "source": [
    "import pandas as pd\n",
    "from sqlalchemy import create_engine, BigInteger, Integer, String\n",
    "\n",
    "# Pull data from csv to DataFrame\n",
    "transactions_by_dept_path = 'data/transactions_by_dept.csv'\n",
    "transactions_df = pd.read_csv(transactions_by_dept_path)\n",
    "transactions_df.columns = ['TransactionId', 'Department','ItemId','SalesUnits']\n",
    "\n",
    "# Map TransactionId to smaller values\n",
    "transaction_id_map = pd.DataFrame(transactions_df['TransactionId'].unique(), columns=['TransactionId'])\n",
    "transaction_id_map['Id'] = transaction_id_map.index\n",
    "transactions_df = transactions_df.merge(transaction_id_map, on='TransactionId') \\\n",
    "                                 .drop('TransactionId',axis=1) \\\n",
    "                                 .rename(columns={'Id': 'TransactionId'}) \\\n",
    "                                 .set_index(['TransactionId','ItemId'])\n",
    "\n",
    "# Data is now ready to be written to database for persistence"
   ]
  },
  {
   "cell_type": "code",
   "execution_count": 97,
   "metadata": {},
   "outputs": [],
   "source": [
    "# Establish a connection\n",
    "host = 'localhost'\n",
    "database = 'data'\n",
    "driver = 'SQL+Server+Native+Client+11.0' # Driver found in ODBC Data Source Administrator app\n",
    "engine = create_engine(\"mssql+pyodbc://{0}/{1}?driver={2}\".format(host,database,driver))\n",
    "\n",
    "# Specify schema and table\n",
    "schema = 'dbo'\n",
    "table_name = 'TransactionsByDept'\n",
    "\n",
    "# Define data types (not always necessary)\n",
    "data_types = {'TransactionId': BigInteger,\n",
    "              'ItemId': BigInteger,\n",
    "              'Department': String,\n",
    "              'SalesUnits': BigInteger}\n",
    "\n",
    "# Write dataframe to a table\n",
    "transactions_df.to_sql(table_name,con=engine,schema=schema,\n",
    "                       index=True, index_label=['TransactionId','ItemId'],\n",
    "                       if_exists='replace',dtype=data_types)"
   ]
  },
  {
   "cell_type": "markdown",
   "metadata": {},
   "source": [
    "### Extended_Bakery Data\n",
    "---\n",
    "###### source: https://github.com/Stocco/Data-Mining-the-Extended-Bakery"
   ]
  },
  {
   "cell_type": "code",
   "execution_count": null,
   "metadata": {},
   "outputs": [],
   "source": [
    "extended_bakery_path = 'data/75000-out1.csv'\n",
    "\n",
    "import pandas as pd\n"
   ]
  },
  {
   "cell_type": "markdown",
   "metadata": {},
   "source": [
    "### Order_Products Data\n",
    "---\n",
    "###### source: https://www.kaggle.com/c/instacart-market-basket-analysis/data"
   ]
  },
  {
   "cell_type": "code",
   "execution_count": null,
   "metadata": {},
   "outputs": [],
   "source": [
    "order_products_prior_path = 'data/order_products__prior.csv'\n",
    "order_products_train_path = 'data/order_products__train.csv'\n",
    "products_path = 'data/products.csv'"
   ]
  }
 ],
 "metadata": {
  "kernelspec": {
   "display_name": "Python 3",
   "language": "python",
   "name": "python3"
  },
  "language_info": {
   "codemirror_mode": {
    "name": "ipython",
    "version": 3
   },
   "file_extension": ".py",
   "mimetype": "text/x-python",
   "name": "python",
   "nbconvert_exporter": "python",
   "pygments_lexer": "ipython3",
   "version": "3.6.7"
  }
 },
 "nbformat": 4,
 "nbformat_minor": 2
}
