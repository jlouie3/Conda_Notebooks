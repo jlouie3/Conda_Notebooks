{
 "cells": [
  {
   "cell_type": "markdown",
   "metadata": {},
   "source": [
    "Association Rules Learning\n",
    "Market Basket Analysis\n",
    "\n",
    "Does purchasing A influence chances of purchasing B?\n",
    "Metrics:\n",
    "Support = P(A) = % of transactions with A\n",
    "Confidence = P(B|A) = Supp(B,A) / Supp(A)\n",
    "Lift = Confidence(B,A) / Support(A)\n",
    "\n",
    "Apriori Algorithm\n",
    "Get 1 item sets: Supp(A) >= min_supp\n",
    "Get 2 item sets: \n",
    "\tUsing 1 item sets, Supp(A,B) >= min_supp\n",
    "    \n",
    "Make 2 item set rules:\n",
    "\tFor each pair, create 2 rules: P(B|A), P(A|B)\n",
    "\tKeep rules where Confidence > min_conf\n",
    "\n",
    "N item sets:\n",
    "\tUsing N-1 item sets, Supp(A,B) > min_supp\n",
    "\tUsing  N  item sets, Conf(A,B) > some_minimum_N+1"
   ]
  },
  {
   "cell_type": "code",
   "execution_count": null,
   "metadata": {},
   "outputs": [],
   "source": []
  }
 ],
 "metadata": {
  "kernelspec": {
   "display_name": "Python 3",
   "language": "python",
   "name": "python3"
  },
  "language_info": {
   "codemirror_mode": {
    "name": "ipython",
    "version": 3
   },
   "file_extension": ".py",
   "mimetype": "text/x-python",
   "name": "python",
   "nbconvert_exporter": "python",
   "pygments_lexer": "ipython3",
   "version": "3.6.7"
  }
 },
 "nbformat": 4,
 "nbformat_minor": 2
}
